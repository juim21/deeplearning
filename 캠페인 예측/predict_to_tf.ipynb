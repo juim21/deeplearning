{
 "cells": [
  {
   "cell_type": "code",
   "execution_count": 2,
   "metadata": {},
   "outputs": [],
   "source": [
    "import pandas as pd\n",
    "import ca_util as ca\n",
    "import datetime as dt\n",
    "import sys\n",
    "import csv\n",
    "import pickle\n",
    "import tensorflow as tf\n",
    "import inspect_checkpoint\n",
    "from sklearn import preprocessing\n",
    "\n",
    "\n",
    "config = tf.ConfigProto()\n",
    "config.gpu_options.allow_growth=True\n",
    "session=tf.Session(config=config)\n"
   ]
  },
  {
   "cell_type": "code",
   "execution_count": 3,
   "metadata": {},
   "outputs": [],
   "source": [
    "\n",
    "# 데이터 전처리 환경 저장한 파일을 불러 옵니다.\n",
    "with open('./output/preprocess_object.pickle', 'rb') as f:\n",
    "\tpreprocess_object = pickle.load(f)\n",
    "\n",
    "# 훈련데이터 로드 합니다.\n",
    "dataset = pd.read_csv('./output/test_dataset.csv', delimiter=',' ,encoding='utf-8', low_memory=False)\n",
    "\n"
   ]
  },
  {
   "cell_type": "code",
   "execution_count": 4,
   "metadata": {},
   "outputs": [],
   "source": [
    "\n",
    "# 연속형 항목 전처리(표준화) 정보 불러와 적용합니다. \n",
    "number_df = dataset.select_dtypes(include=['int64', 'float64'])\n",
    "scaler = preprocess_object.pop('scaler',None)\n",
    "\n",
    "# 표준화 적용 & DataFrade/Column 명 적용합니다.\n",
    "scaler_arr = scaler.transform(number_df)\n",
    "org_data = pd.DataFrame(scaler_arr, columns=number_df.columns)\n",
    "\n",
    "# 이산형 데이터 OneHot Encoder 처리 합니다.\n",
    "categorical = list(dataset.select_dtypes(include=['object']).columns)\n",
    "oh_encoder = {}\n",
    "\n",
    "for cat in categorical:\n",
    "\t# OneHot 정보 불러옵니다.\n",
    "\toh_encoder = preprocess_object[cat]\n",
    "\t# LabelEncoder & OneHot Encoder 불러 옵니다.\n",
    "\tle = oh_encoder['LabelEncoder']\n",
    "\tohe = oh_encoder['OneHotEncoder']\n",
    "\t# 범주형 LabelEncoder 처리 합니다.\n",
    "\tcat_le_arr = le.transform(dataset[cat])\n",
    "\tcat_ohe_arr = ohe.transform(cat_le_arr.reshape(-1,1)).toarray()\n",
    "\toh_df = pd.DataFrame(cat_ohe_arr, columns=[cat+'_'+le.inverse_transform([int(i)])[0] for i in range(cat_ohe_arr.shape[1])])\n",
    "\t# OneHot 결과 데이터 추가 합니다.\n",
    "\torg_data = pd.concat([org_data, oh_df], axis=1)\n",
    "\n",
    "# 반응결과(종속변수) 새로운 데이터셋 분리 합니다.\n",
    "test_label = pd.DataFrame()\n",
    "test_label['resp_N'] = org_data['resp_N']\n",
    "test_label['resp_Y'] = org_data['resp_Y']\n",
    "\n",
    "\n"
   ]
  },
  {
   "cell_type": "code",
   "execution_count": 5,
   "metadata": {},
   "outputs": [
    {
     "name": "stdout",
     "output_type": "stream",
     "text": [
      "    PSTN회선수    모바일회선수   SOIP회선수    인터넷회선수   IPTV회선수   와이브로회선수  모바일약정전여개월수  \\\n",
      "0  0.162066  0.423375  1.190592 -1.793871 -0.861728 -0.031609    0.482797   \n",
      "1  0.162066 -0.859920 -0.447411 -1.793871 -0.861728 -0.031609    0.482797   \n",
      "2  0.162066  1.706670 -0.447411 -1.793871 -0.861728 -0.031609   -0.375163   \n",
      "3  0.162066  0.423375 -0.447411 -1.793871 -0.861728 -0.031609   -1.614439   \n",
      "4  1.926060 -0.859920 -0.447411  1.051825 -0.861728 -0.031609    0.482797   \n",
      "\n",
      "   모바일해지후개월수        나이  인터넷가입경과개월수  ...  사용유형_주택용  납무방법_QOOK집전화합산  납무방법__  \\\n",
      "0  -0.430781  2.806576   -1.386508  ...       1.0             0.0     0.0   \n",
      "1   0.320257  0.986672   -1.386508  ...       1.0             0.0     0.0   \n",
      "2  -0.430781 -0.378255   -1.386508  ...       1.0             0.0     0.0   \n",
      "3  -0.430781 -1.093217   -1.386508  ...       1.0             0.0     0.0   \n",
      "4  -0.430781 -0.573245   -1.386508  ...       1.0             0.0     0.0   \n",
      "\n",
      "   납무방법_개인(신용카드)  납무방법_신용카드  납무방법_은행계좌 자동이체  납무방법_지로  납무방법_지로자동이체  resp_N  \\\n",
      "0            0.0        1.0             0.0      0.0          0.0     0.0   \n",
      "1            0.0        0.0             1.0      0.0          0.0     0.0   \n",
      "2            0.0        0.0             1.0      0.0          0.0     0.0   \n",
      "3            0.0        0.0             1.0      0.0          0.0     0.0   \n",
      "4            0.0        0.0             1.0      0.0          0.0     0.0   \n",
      "\n",
      "   resp_Y  \n",
      "0     1.0  \n",
      "1     1.0  \n",
      "2     1.0  \n",
      "3     1.0  \n",
      "4     1.0  \n",
      "\n",
      "[5 rows x 618 columns]\n"
     ]
    }
   ],
   "source": [
    "print(org_data.head(5))"
   ]
  },
  {
   "cell_type": "code",
   "execution_count": 6,
   "metadata": {},
   "outputs": [
    {
     "name": "stdout",
     "output_type": "stream",
     "text": [
      "<class 'pandas.core.frame.DataFrame'>\n",
      "RangeIndex: 6412 entries, 0 to 6411\n",
      "Columns: 618 entries, PSTN회선수 to resp_Y\n",
      "dtypes: float64(618)\n",
      "memory usage: 30.2 MB\n",
      "None\n"
     ]
    }
   ],
   "source": [
    "print(org_data.info())"
   ]
  },
  {
   "cell_type": "code",
   "execution_count": 7,
   "metadata": {},
   "outputs": [
    {
     "name": "stdout",
     "output_type": "stream",
     "text": [
      "           PSTN회선수       모바일회선수      SOIP회선수       인터넷회선수      IPTV회선수  \\\n",
      "count  6412.000000  6412.000000  6412.000000  6412.000000  6412.000000   \n",
      "mean     -0.010151     0.000680     0.013437     0.013092     0.003418   \n",
      "std       0.994910     1.037748     1.077168     1.034303     1.023620   \n",
      "min      -0.719931    -0.859920    -0.447411    -1.793871    -0.861728   \n",
      "25%      -0.719931    -0.859920    -0.447411    -0.371023    -0.168140   \n",
      "50%       0.162066     0.423375    -0.447411    -0.371023    -0.168140   \n",
      "75%       0.162066     0.423375    -0.447411    -0.371023     0.525448   \n",
      "max       9.864033    26.089276    29.036635    13.857456    32.430493   \n",
      "\n",
      "           와이브로회선수   모바일약정전여개월수    모바일해지후개월수           나이   인터넷가입경과개월수  ...  \\\n",
      "count  6412.000000  6412.000000  6412.000000  6412.000000  6412.000000  ...   \n",
      "mean      0.002963     0.009586     0.004969    -0.010080    -0.022019  ...   \n",
      "std       1.045858     0.998835     1.008506     1.001341     1.000103  ...   \n",
      "min      -0.031609    -2.567728    -0.430781    -3.043114    -1.386508  ...   \n",
      "25%      -0.031609    -0.565821    -0.430781    -0.638241    -1.261141  ...   \n",
      "50%      -0.031609     0.482797    -0.430781     0.011724     0.368628  ...   \n",
      "75%      -0.031609     0.482797    -0.430781     0.661690     0.932779  ...   \n",
      "max      31.636609     4.009965     2.656819     3.586535     0.932779  ...   \n",
      "\n",
      "          사용유형_주택용  납무방법_QOOK집전화합산       납무방법__  납무방법_개인(신용카드)    납무방법_신용카드  \\\n",
      "count  6412.000000     6412.000000  6412.000000    6412.000000  6412.000000   \n",
      "mean      0.177636        0.002807     0.000156       0.001092     0.349033   \n",
      "std       0.382236        0.052913     0.012488       0.033025     0.476702   \n",
      "min       0.000000        0.000000     0.000000       0.000000     0.000000   \n",
      "25%       0.000000        0.000000     0.000000       0.000000     0.000000   \n",
      "50%       0.000000        0.000000     0.000000       0.000000     0.000000   \n",
      "75%       0.000000        0.000000     0.000000       0.000000     1.000000   \n",
      "max       1.000000        1.000000     1.000000       1.000000     1.000000   \n",
      "\n",
      "       납무방법_은행계좌 자동이체      납무방법_지로  납무방법_지로자동이체       resp_N       resp_Y  \n",
      "count     6412.000000  6412.000000  6412.000000  6412.000000  6412.000000  \n",
      "mean         0.495789     0.128509     0.022614     0.296007     0.703993  \n",
      "std          0.500021     0.334682     0.148681     0.456530     0.456530  \n",
      "min          0.000000     0.000000     0.000000     0.000000     0.000000  \n",
      "25%          0.000000     0.000000     0.000000     0.000000     0.000000  \n",
      "50%          0.000000     0.000000     0.000000     0.000000     1.000000  \n",
      "75%          1.000000     0.000000     0.000000     1.000000     1.000000  \n",
      "max          1.000000     1.000000     1.000000     1.000000     1.000000  \n",
      "\n",
      "[8 rows x 618 columns]\n"
     ]
    }
   ],
   "source": [
    "print(org_data.describe())"
   ]
  },
  {
   "cell_type": "code",
   "execution_count": 14,
   "metadata": {},
   "outputs": [],
   "source": [
    "org_data.corr().to_csv('./output/org_data_corr.csv', mode='w', encoding='utf-8', header=1, index=0)"
   ]
  },
  {
   "cell_type": "code",
   "execution_count": 8,
   "metadata": {},
   "outputs": [
    {
     "name": "stdout",
     "output_type": "stream",
     "text": [
      "       PSTN회선수  resp_N  resp_Y\n",
      "0     0.162066     0.0     1.0\n",
      "1     0.162066     0.0     1.0\n",
      "2     0.162066     0.0     1.0\n",
      "3     0.162066     0.0     1.0\n",
      "4     1.926060     0.0     1.0\n",
      "5     0.162066     1.0     0.0\n",
      "6     0.162066     0.0     1.0\n",
      "7    -0.719931     0.0     1.0\n",
      "8     1.044063     0.0     1.0\n",
      "9     0.162066     0.0     1.0\n",
      "10    0.162066     0.0     1.0\n",
      "11   -0.719931     1.0     0.0\n",
      "12   -0.719931     0.0     1.0\n",
      "13   -0.719931     0.0     1.0\n",
      "14   -0.719931     0.0     1.0\n",
      "15   -0.719931     0.0     1.0\n",
      "16   -0.719931     0.0     1.0\n",
      "17   -0.719931     0.0     1.0\n",
      "18   -0.719931     0.0     1.0\n",
      "19   -0.719931     0.0     1.0\n",
      "20   -0.719931     0.0     1.0\n",
      "21    0.162066     0.0     1.0\n",
      "22    1.044063     0.0     1.0\n",
      "23   -0.719931     1.0     0.0\n",
      "24   -0.719931     1.0     0.0\n",
      "25   -0.719931     0.0     1.0\n",
      "26   -0.719931     0.0     1.0\n",
      "27   -0.719931     0.0     1.0\n",
      "28   -0.719931     1.0     0.0\n",
      "29   -0.719931     0.0     1.0\n",
      "...        ...     ...     ...\n",
      "6382 -0.719931     0.0     1.0\n",
      "6383  4.572051     0.0     1.0\n",
      "6384  0.162066     0.0     1.0\n",
      "6385  0.162066     1.0     0.0\n",
      "6386  0.162066     1.0     0.0\n",
      "6387 -0.719931     0.0     1.0\n",
      "6388 -0.719931     0.0     1.0\n",
      "6389  0.162066     1.0     0.0\n",
      "6390  0.162066     1.0     0.0\n",
      "6391  0.162066     0.0     1.0\n",
      "6392 -0.719931     0.0     1.0\n",
      "6393 -0.719931     0.0     1.0\n",
      "6394  0.162066     1.0     0.0\n",
      "6395  1.926060     1.0     0.0\n",
      "6396  1.044063     0.0     1.0\n",
      "6397 -0.719931     1.0     0.0\n",
      "6398  0.162066     0.0     1.0\n",
      "6399 -0.719931     1.0     0.0\n",
      "6400 -0.719931     0.0     1.0\n",
      "6401 -0.719931     0.0     1.0\n",
      "6402  0.162066     0.0     1.0\n",
      "6403 -0.719931     0.0     1.0\n",
      "6404 -0.719931     0.0     1.0\n",
      "6405  0.162066     0.0     1.0\n",
      "6406  0.162066     1.0     0.0\n",
      "6407  1.044063     1.0     0.0\n",
      "6408  0.162066     0.0     1.0\n",
      "6409 -0.719931     0.0     1.0\n",
      "6410 -0.719931     0.0     1.0\n",
      "6411 -0.719931     0.0     1.0\n",
      "\n",
      "[6412 rows x 3 columns]\n"
     ]
    }
   ],
   "source": [
    "print(org_data[['PSTN회선수','resp_N','resp_Y']])"
   ]
  },
  {
   "cell_type": "code",
   "execution_count": 9,
   "metadata": {},
   "outputs": [
    {
     "name": "stdout",
     "output_type": "stream",
     "text": [
      "     PSTN회선수    resp_N\n",
      "11  9.864033  1.000000\n",
      "10  8.982036  0.000000\n",
      "9   7.218042  0.200000\n",
      "8   6.336045  0.000000\n",
      "7   5.454048  0.000000\n",
      "6   4.572051  0.105263\n",
      "5   3.690054  0.315789\n",
      "4   2.808057  0.260504\n",
      "3   1.926060  0.227092\n",
      "2   1.044063  0.312500\n",
      "1   0.162066  0.265478\n",
      "0  -0.719931  0.321015\n"
     ]
    }
   ],
   "source": [
    "#데이터 가공하기\n",
    "print(org_data[['PSTN회선수','resp_N']].groupby(['PSTN회선수'],as_index=False).mean().sort_values(by='PSTN회선수', ascending=False))"
   ]
  },
  {
   "cell_type": "code",
   "execution_count": 10,
   "metadata": {},
   "outputs": [
    {
     "data": {
      "text/plain": [
       "<Figure size 1500x1500 with 0 Axes>"
      ]
     },
     "execution_count": 10,
     "metadata": {},
     "output_type": "execute_result"
    }
   ],
   "source": [
    "#matplotlib을 이용해 그래프로 표현\n",
    "import matplotlib.pyplot as plt\n",
    "import seaborn as sns\n",
    "#그래프의 크기 결정\n",
    "plt.figure(figsize=(15 ,15 ))"
   ]
  },
  {
   "cell_type": "code",
   "execution_count": 15,
   "metadata": {},
   "outputs": [
    {
     "data": {
      "image/png": "[encoded data removed]",
      "text/plain": [
       "<Figure size 432x216 with 2 Axes>"
      ]
     },
     "metadata": {
      "needs_background": "light"
     },
     "output_type": "display_data"
    }
   ],
   "source": [
    "#상관도가 높은 plasma와 class만 떼어 그래프로 확인\n",
    "grid = sns.FacetGrid(org_data,col='resp_Y')\n",
    "grid.map(plt.hist,'이동전화결합회선수', bins=10)\n",
    "plt.show()"
   ]
  },
  {
   "cell_type": "code",
   "execution_count": null,
   "metadata": {},
   "outputs": [],
   "source": [
    "# 데이터셋(독립변수) 반응결과 삭제 합니다.\n",
    "del org_data['resp_N']\n",
    "del org_data['resp_Y']"
   ]
  },
  {
   "cell_type": "code",
   "execution_count": null,
   "metadata": {},
   "outputs": [],
   "source": [
    "\n",
    "# index 재정렬 후 삭제 합니다.(drop 하지 않아 현재는 필요 없습니다.)\n",
    "# org_data = org_data.reset_index()\n",
    "# del org_data['index']\n",
    "\n",
    "# DNN 모델 설정 합니다.\n",
    "X = tf.placeholder(tf.float32, [None, org_data.shape[1]])\n",
    "Y = tf.placeholder(tf.float32, [None, test_label.shape[1]])\n",
    "keep_prob = tf.placeholder(tf.float32)\n",
    "\n",
    "W1 = tf.Variable(tf.random_normal([org_data.shape[1], 256], stddev=0.01))\n",
    "L1 = tf.nn.sigmoid(tf.matmul(X, W1))\n",
    "\n",
    "# 텐서플로우에 내장된 함수를 이용하여 dropout 을 적용합니다.\n",
    "L1 = tf.nn.dropout(L1, keep_prob)\n",
    "\n",
    "W2 = tf.Variable(tf.random_normal([256, 256], stddev=0.01))\n",
    "L2 = tf.nn.sigmoid(tf.matmul(L1, W2))\n",
    "L2 = tf.nn.dropout(L2, keep_prob)\n",
    "\n",
    "W3 = tf.Variable(tf.random_normal([256, test_label.shape[1]], stddev=0.01))\n",
    "model = tf.nn.softmax(tf.matmul(L2, W3))\n",
    "\n",
    "cost = tf.reduce_mean(tf.nn.softmax_cross_entropy_with_logits_v2(logits=model, labels=Y))\n",
    "optimizer = tf.train.AdamOptimizer(0.001).minimize(cost)\n",
    "\n",
    "# 학습한 모델을 불러 옵니다.\n",
    "init = tf.global_variables_initializer()\n",
    "\n",
    "save_file = './output/train_model.ckpt'\n"
   ]
  },
  {
   "cell_type": "code",
   "execution_count": null,
   "metadata": {},
   "outputs": [],
   "source": []
  },
  {
   "cell_type": "code",
   "execution_count": null,
   "metadata": {},
   "outputs": [],
   "source": [
    "\n",
    "\n",
    "with tf.Session(config=config) as sess:\n",
    "    saver = tf.train.Saver(tf.global_variables())\n",
    "    print('모델 불러 옵니다.')\n",
    "    saver.restore(sess, save_file)\n",
    "    pred = tf.argmax(model, 1)\n",
    "    \n",
    "    is_correct = tf.equal(pred, tf.argmax(Y, 1))\n",
    "    accuracy = tf.reduce_mean(tf.cast(is_correct, tf.float32))\n",
    "    prediction = sess.run(pred, feed_dict={X: org_data, Y: test_label, keep_prob: 1})\n",
    "    print('정확도 :', sess.run(accuracy, feed_dict={X: org_data, Y: test_label, keep_prob: 1}))\n",
    "\n",
    "# 학습  종료 합니다."
   ]
  },
  {
   "cell_type": "code",
   "execution_count": null,
   "metadata": {},
   "outputs": [],
   "source": []
  }
 ],
 "metadata": {
  "kernelspec": {
   "display_name": "Python 3",
   "language": "python",
   "name": "python3"
  },
  "language_info": {
   "codemirror_mode": {
    "name": "ipython",
    "version": 3
   },
   "file_extension": ".py",
   "mimetype": "text/x-python",
   "name": "python",
   "nbconvert_exporter": "python",
   "pygments_lexer": "ipython3",
   "version": "3.6.8"
  }
 },
 "nbformat": 4,
 "nbformat_minor": 2
}
