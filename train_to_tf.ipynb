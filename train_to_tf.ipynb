{
 "cells": [
  {
   "cell_type": "code",
   "execution_count": 11,
   "metadata": {},
   "outputs": [],
   "source": [
    "import pandas as pd\n",
    "import ca_util as ca\n",
    "import datetime as dt\n",
    "import sys\n",
    "import csv\n",
    "import pickle\n",
    "import tensorflow as tf\n",
    "from sklearn import preprocessing\n",
    "\n",
    "with open('./output/preprocess_object.pickle','rb') as f:\n",
    "    preprocess_object = pickle.load(f)\n",
    "    \n",
    "dataset = pd.read_csv('./output/train_dataset.csv', delimiter=',', encoding='utf-8',low_memory=False)\n"
   ]
  },
  {
   "cell_type": "code",
   "execution_count": null,
   "metadata": {},
   "outputs": [],
   "source": [
    "dataset"
   ]
  },
  {
   "cell_type": "code",
   "execution_count": 12,
   "metadata": {},
   "outputs": [],
   "source": [
    "number_df = dataset.select_dtypes(include=['int64', 'float64'])\n",
    "scaler = preprocess_object.pop('scaler',None)"
   ]
  },
  {
   "cell_type": "code",
   "execution_count": null,
   "metadata": {},
   "outputs": [],
   "source": []
  },
  {
   "cell_type": "code",
   "execution_count": 13,
   "metadata": {},
   "outputs": [],
   "source": [
    "scaler_arr = scaler.transform(number_df)\n",
    "train_data = pd.DataFrame(scaler_arr, columns=number_df.columns)"
   ]
  },
  {
   "cell_type": "code",
   "execution_count": 14,
   "metadata": {},
   "outputs": [],
   "source": [
    "categorical = list(dataset.select_dtypes(include=['object']).columns)\n",
    "oh_encoder = {}"
   ]
  },
  {
   "cell_type": "code",
   "execution_count": 15,
   "metadata": {},
   "outputs": [
    {
     "name": "stdout",
     "output_type": "stream",
     "text": [
      "['인터넷결합여부_N', '인터넷결합여부_Y']\n",
      "['IPTV결합여무_N', 'IPTV결합여무_Y']\n",
      "['PSTN결합여부_N', 'PSTN결합여부_Y']\n",
      "['모바일결합여부_N', '모바일결합여부_Y']\n",
      "['모바일사용여부_N', '모바일사용여부_Y']\n",
      "['스마트폰사영여부_N', '스마트폰사영여부_Y']\n",
      "['아동부가서비스가입여부_N', '아동부가서비스가입여부_Y']\n",
      "['올레클럽가입여부_N', '올레클럽가입여부_Y']\n",
      "['인터넷가입여부_N', '인터넷가입여부_Y']\n",
      "['SOIP사용여부_N', 'SOIP사용여부_Y']\n",
      "['PSTN사용여부_N', 'PSTN사용여부_Y']\n",
      "['6개월인터넷PSTN결합여부_N', '6개월인터넷PSTN결합여부_Y']\n",
      "['패트사용여부_N', '패트사용여부_Y']\n",
      "['IPTV사용여부_N', 'IPTV사용여부_Y']\n",
      "['성별__', '성별_남자', '성별_여자']\n",
      "['고객등급_Gold', '고객등급_Silver', '고객등급_VIP', '고객등급_White', '고객등급__', '고객등급_일반']\n",
      "['서비스정지여부_N', '서비스정지여부_Y']\n",
      "['미납여부_N', '미납여부_Y']\n",
      "['고객유형_개인', '고객유형_개인사업자']\n",
      "['EC_고객여부_N', 'EC_고객여부_Y']\n",
      "['개인정보수집동의여부_N', '개인정보수집동의여부_Y', '개인정보수집동의여부__']\n",
      "['개인정보활용동의여부_N', '개인정보활용동의여부_Y', '개인정보활용동의여부__']\n",
      "['VIP관리태그코드_BM', 'VIP관리태그코드_P2', 'VIP관리태그코드__']\n",
      "['기가인터넷사용여부_N', '기가인터넷사용여부_Y']\n",
      "['단말기모델구분명_2', '단말기모델구분명__']\n",
      "['스마트폰여부_N', '스마트폰여부_Y']\n",
      "['약정여부_N', '약정여부_Y']\n",
      "['LOB명_IPTV', 'LOB명_Internet', 'LOB명_Mobile', 'LOB명_PSTN', 'LOB명_SOIP']\n",
      "['상품명_LTE 데이터 선택 32.8', '상품명_LTE 데이터 선택 38.3', '상품명_OTS 라이트_ICOD', '상품명_OTS 라이트_ICOD_기존', '상품명_OTS 슬림_DnP', '상품명_OTS 슬림_ICOD', '상품명_OTS 슬림_ICOD_기존', '상품명_OTS 에센스_ICOD', '상품명_OTS 에센스_ICOD_기존', '상품명_OTV Biz 슬림_숙박업소용', '상품명_OTV Biz 슬림_일반매장용', '상품명_OTV 라이트', '상품명_OTV 무비', '상품명_OTV 무비플러스', '상품명_OTV 슬림', '상품명_OTV 에센스', '상품명_OTV 엔터', '상품명_OTV 키즈', '상품명_VOD(베이직패키지)', '상품명_biz 이너텔(별정3호)', '상품명_biz 인터넷전화 Centrex', '상품명_olleh tv GiGA UHD', '상품명_olleh tv mobile', '상품명_tv 고급형(OTV 에센스)', '상품명_tv 교육형 TV용 기본팩', '상품명_tv 비즈형 숙박업소용(기본팩)', '상품명_tv 비즈형 일반매장용(기본팩)', '상품명_tv 선택형', '상품명_tv 스카이(올라잇)_기존_ICOD', '상품명_tv 스카이(올라잇)_신규_ICOD', '상품명_tv 스탠다드 (DnP)', '상품명_tv 스탠다드 (ICOD)', '상품명_tv 스탠다드 기존 (DnP)', '상품명_tv 스탠다드 기존 (ICOD)', '상품명_tv 올라잇', '상품명_tv 이코노미 (DnP)', '상품명_tv 이코노미 (ICOD)', '상품명_tv 이코노미 기존 (DnP)', '상품명_tv 이코노미 기존 (ICOD)', '상품명_tv 프리미엄 (DnP)', '상품명_tv 프리미엄 (ICOD)', '상품명_tv 프리미엄 기존 (ICOD)', '상품명_tv(기본형)', '상품명_tv(실속형)', '상품명_기가 인터넷 최대 1G', '상품명_기가 인터넷 최대 500M', '상품명_비즈형_OTS슬림_숙박업소용_ICOD', '상품명_비즈형_OTS슬림_일반매장용_ICOD', '상품명_스마트홈 폰', '상품명_오피스IP넷 유동IP(500M)', '상품명_올레 인터넷', '상품명_인터넷 ADSL HomeNet', '상품명_인터넷 ADSL Lite', '상품명_인터넷 ADSL Lite(Premium)', '상품명_인터넷 ADSL ONLY Lite', '상품명_인터넷 ADSL ONLY Lite(Premium)', '상품명_인터넷 ADSL ONLY 우리아기생애최초', '상품명_인터넷 Check-Line Only', '상품명_인터넷 Infra', '상품명_인터넷 Special (HomeNET-E)', '상품명_인터넷 Special (Ntopia-E)', '상품명_인터넷 Special (Ntopia-Home)', '상품명_인터넷 Special-Ⅰ', '상품명_인터넷 Special-ⅠOnly', '상품명_인터넷 올라잇(only)', '상품명_인터넷 최대 100M', '상품명_인터넷 최대 200M', '상품명_인터넷-Check Line', '상품명_인터넷선불_100M(3개월)', '상품명_인터넷전화 Home', '상품명_일반전화']\n",
      "['계약상태_사용중', '계약상태_정지중', '계약상태_해지']\n",
      "['핸드폰유형__', '핸드폰유형_스마트폰']\n",
      "['장비모델명_AP 홈허브', '장비모델명_AP 홈허브 스페셜', '장비모델명_AP 홈허브 스페셜(약정제)', '장비모델명_APT_AT-916B', '장비모델명_APT_AT-916W', '장비모델명_APT_AT-920', '장비모델명_APT_AT-S900', '장비모델명_APT_AT-S900B', '장비모델명_APT_AT-S900R', '장비모델명_APT_AT-S900S', '장비모델명_APT_AT-S900W', '장비모델명_APT_AT-S915R', '장비모델명_APT_AT-S915S', '장비모델명_APT_AT05-704V', '장비모델명_APT_AT201-008W', '장비모델명_APT_AT201-803D', '장비모델명_APT_AT202-207W', '장비모델명_APT_AT202-207WA', '장비모델명_APT_AT202-906DCG', '장비모델명_APT_AT202-906DCP', '장비모델명_APT_AT202-906DG', '장비모델명_APT_AT202-906DP', '장비모델명_APT_AT203-003D', '장비모델명_APT_AT203-308W', '장비모델명_APT_AT204-505D', '장비모델명_APT_AT602-906D', '장비모델명_APT_KA-1010A', '장비모델명_BJN_BJ501-307', '장비모델명_BP-210F', '장비모델명_BP-310', '장비모델명_DAS_925KI(펌웨어업그레이드된 단말)', '장비모델명_DAS_DS201-810W', '장비모델명_DAS_H965KL', '장비모델명_DAV_DV202-207', '장비모델명_DMT-3900HDIP', '장비모델명_DMT-3900MBS', '장비모델명_DMT-4900DCS', '장비모델명_DMT-4900HDIP', '장비모델명_DMT-6900HDIP', '장비모델명_DMT-6900ICOD', '장비모델명_DSB-5010N', '장비모델명_EV201-808D', '장비모델명_EV201-909W', '장비모델명_GiGA Genie2_레드(임대)_KAO_CT1101_LR', '장비모델명_GiGA Genie2_민트(임대)_KAO_CT1101_LM', '장비모델명_GiGA Genie2_블루(임대)_KAO_CT1101_LB', '장비모델명_GiGA Genie2_차콜그레이(임대)_KAO_CT1101_LG', '장비모델명_GiGA Genie2_화이트(임대)_KAO_CT1101_LW', '장비모델명_GiGA Genie_본체_레드 KAO_CT1100-LR', '장비모델명_GiGA Genie_본체_블랙 KAO_CT1100-LB', '장비모델명_GiGA Genie_본체_화이트 KAO_CT1100-LW', '장비모델명_GiGA WiFi home', '장비모델명_GiGA WiFi premium', '장비모델명_H955K', '장비모델명_H965K', '장비모델명_HMX_BP-310L', '장비모델명_HMX_BP-4000', '장비모델명_HMX_TS110', '장비모델명_HMX_UHD-S1', '장비모델명_HY1_HY202-207', '장비모델명_IP공유기', '장비모델명_KAO_CT1107_LG_차콜그레이', '장비모델명_KAO_IC1000', '장비모델명_KAO_IC1100', '장비모델명_KAO_NA2200', '장비모델명_KFT_EV202-003D', '장비모델명_KFT_EV202-005W', '장비모델명_LG-F750K', '장비모델명_LGM-X320K', '장비모델명_LGN_KA-1020L', '장비모델명_LGN_KA-1021L', '장비모델명_LGN_KA-3000L', '장비모델명_LGN_KA-4000L', '장비모델명_LGN_LN101-806D', '장비모델명_LGN_LN201-805D', '장비모델명_LGN_LN201-810W', '장비모델명_LGN_LN202-003D', '장비모델명_LGN_LN202-007W', '장비모델명_LGN_LN301-806D', '장비모델명_LGT_GT-9183G', '장비모델명_LGT_GT-9183S', '장비모델명_LGT_GT-9184', '장비모델명_LGT_GT-9187', '장비모델명_LGT_GT-9633', '장비모델명_LSH537', '장비모델명_LSH537I', '장비모델명_LSH630', '장비모델명_MMM_IP255FA', '장비모델명_MMM_IP370S', '장비모델명_MMM_IP375H', '장비모델명_MMM_MS01-706V', '장비모델명_MMM_MWP-2500', '장비모델명_NA1100', '장비모델명_NA1110', '장비모델명_NA1110DCS', '장비모델명_NVT_KA-1030N', '장비모델명_NVT_KA-1031N', '장비모델명_NVT_KAC-100N', '장비모델명_RNC_RC102-811DB', '장비모델명_RNC_RC102-811DW', '장비모델명_RNC_RC103-006DB', '장비모델명_RNC_RC103-006DW', '장비모델명_RNC_RC501-211', '장비모델명_SEC_GX-KT600EJ', '장비모델명_SM-G150NK', '장비모델명_SMT-E5010', '장비모델명_SMT-E5012', '장비모델명_SMT-E5015DCS', '장비모델명_SMT-E7020I', '장비모델명_SMT_E7020', '장비모델명_SSE_ESP-30KUWKG', '장비모델명_SSE_GX-KT601EL', '장비모델명_SSE_GX-SL602SL', '장비모델명_SSE_KA-1000S', '장비모델명_SSE_KA-2000S', '장비모델명_SSE_OTV-SMT-E5015', '장비모델명_SSE_SIT-930N', '장비모델명_SSE_SIT-930NB', '장비모델명_SSE_SIT-950N', '장비모델명_SSE_SIT-950NR', '장비모델명_SSE_SIT-970N', '장비모델명_SSE_SIT-980A', '장비모델명_SSE_SIT-990AB', '장비모델명_SSE_SIT-990AP', '장비모델명_SSE_SMT-E5012L', '장비모델명_SSE_SMT-H6170', '장비모델명_SSE_SMT_E5015', '장비모델명_SSE_SMT_H6172', '장비모델명_SSE_SS101-806DW', '장비모델명_SSE_SS102-806DW', '장비모델명_SSE_SS201-804DW', '장비모델명_SSE_SS201-810W', '장비모델명_SSE_SS202-907D', '장비모델명_SSE_SS204-003D', '장비모델명_SSE_SS205-107D', '장비모델명_SSE_SS301-806DW', '장비모델명_SSE_SS501-804DW', '장비모델명_SSE_YP-GI2CW/KT', '장비모델명_SSE_YP-GP1EW/KT', '장비모델명_UDC_UD201-012W', '장비모델명_UHD-S1DCS', '장비모델명_WiFi 임대장비(고속AP)', '장비모델명__', '장비모델명_olleh WiFi home', '장비모델명_xDSL 모뎀', '장비모델명_xDSL(인터넷선불모뎀)', '장비모델명_모뎀(기가인터넷용)', '장비모델명_무선랜카드_54M_11b+g(USB)', '장비모델명_신용카드결제용 모뎀', '장비모델명_와이파이 패키지_GiGA WiFi home']\n",
      "['단말기모델상품명_LTE 스마트폰', '단말기모델상품명_SoIP단말', '단말기모델상품명__', '단말기모델상품명_기업용인터넷전화폰(Centrex)', '단말기모델상품명_통신기타단말', '단말기모델상품명_홈인터넷전화폰']\n",
      "['고객상세분류명_AM', '고객상세분류명_APT', '고객상세분류명_CORE', '고객상세분류명_MASS', '고객상세분류명_가치', '고객상세분류명_법인']\n",
      "['번호이동전사업자코드_10001', '번호이동전사업자코드_10002', '번호이동전사업자코드_10003', '번호이동전사업자코드_10005', '번호이동전사업자코드_10010', '번호이동전사업자코드_10011', '번호이동전사업자코드_10013', '번호이동전사업자코드_10014', '번호이동전사업자코드_10015', '번호이동전사업자코드_10016', '번호이동전사업자코드_10038', '번호이동전사업자코드__']\n",
      "['고객감면할인여부_N', '고객감면할인여부_Y']\n",
      "['복지할인여부_N', '복지할인여부_Y']\n",
      "['인터넷재약정사전예약여부_N', '인터넷재약정사전예약여부_Y']\n",
      "['인터넷패일리자회선여부_N', '인터넷패일리자회선여부_Y']\n",
      "['인터넷패일리모회선여부_N', '인터넷패일리모회선여부_Y']\n",
      "['저소득층할인여부_N', '저소득층할인여부__']\n",
      "['결합상품명__', '결합상품명_인터넷+tv', '결합상품명_인터넷+tv+모바일', '결합상품명_인터넷+tv+인터넷전화', '결합상품명_인터넷+tv+인터넷전화+모바일', '결합상품명_인터넷+tv+일반전화', '결합상품명_인터넷+tv+일반전화+모바일', '결합상품명_인터넷+tv+일반전화+인터넷전화', '결합상품명_인터넷+tv+일반전화+인터넷전화+모바일', '결합상품명_인터넷+모바일', '결합상품명_인터넷+인터넷전화', '결합상품명_인터넷+인터넷전화+모바일', '결합상품명_인터넷+일반전화', '결합상품명_인터넷+일반전화+모바일', '결합상품명_인터넷+일반전화+인터넷전화', '결합상품명_인터넷+일반전화+인터넷전화+WiBro', '결합상품명_인터넷+일반전화+인터넷전화+모바일', '결합상품명_인터넷+텔레캅', '결합상품명_인터넷전화+모바일', '결합상품명_일반전화+OTV', '결합상품명_일반전화+OTV+모바일', '결합상품명_일반전화+모바일', '결합상품명_일반전화+인터넷전화']\n",
      "['결합할인통합코드_10001', '결합할인통합코드_10004', '결합할인통합코드_10005', '결합할인통합코드_10006', '결합할인통합코드_10007', '결합할인통합코드_10008', '결합할인통합코드_15013', '결합할인통합코드_15014', '결합할인통합코드_15016', '결합할인통합코드__']\n",
      "['분석5상품수준아이디_BM00098', '분석5상품수준아이디_BM00174', '분석5상품수준아이디_BM00205', '분석5상품수준아이디_BM00218', '분석5상품수준아이디_BM00219', '분석5상품수준아이디_BM00221', '분석5상품수준아이디_BM00222', '분석5상품수준아이디_BM00223', '분석5상품수준아이디_BM00224', '분석5상품수준아이디_BM00477', '분석5상품수준아이디_BM00479', '분석5상품수준아이디_BM00480', '분석5상품수준아이디_BM00481', '분석5상품수준아이디_BM00483', '분석5상품수준아이디_BM00503', '분석5상품수준아이디_BM00504', '분석5상품수준아이디_BM00505', '분석5상품수준아이디_BM00510', '분석5상품수준아이디_BM00511', '분석5상품수준아이디_BM00512', '분석5상품수준아이디_BM00513', '분석5상품수준아이디_BM00514', '분석5상품수준아이디_BM00688', '분석5상품수준아이디_BM00747', '분석5상품수준아이디_BM00748', '분석5상품수준아이디_BM00751', '분석5상품수준아이디_BM00752', '분석5상품수준아이디_BM00783', '분석5상품수준아이디_BM00906', '분석5상품수준아이디_BM00908', '분석5상품수준아이디_BM00913', '분석5상품수준아이디_BM00914', '분석5상품수준아이디_BM00940', '분석5상품수준아이디_BM00951', '분석5상품수준아이디_BM00952', '분석5상품수준아이디_BM00953', '분석5상품수준아이디_BM00954', '분석5상품수준아이디_BM00979', '분석5상품수준아이디_BM00980', '분석5상품수준아이디_BM00981', '분석5상품수준아이디_BM00990', '분석5상품수준아이디_BM00992', '분석5상품수준아이디_BM00993', '분석5상품수준아이디_BM01117', '분석5상품수준아이디_BM01129', '분석5상품수준아이디_BM01152', '분석5상품수준아이디_BM01153', '분석5상품수준아이디_BM01180', '분석5상품수준아이디_BM10025', '분석5상품수준아이디_BM10026', '분석5상품수준아이디_BM10027', '분석5상품수준아이디_BM10034']\n",
      "['온라인가입구분통합코드_10003', '온라인가입구분통합코드_10004', '온라인가입구분통합코드_|']\n"
     ]
    },
    {
     "name": "stdout",
     "output_type": "stream",
     "text": [
      "['약정기간통합코드_10010', '약정기간통합코드_10020', '약정기간통합코드_90012', '약정기간통합코드_90018', '약정기간통합코드_90024', '약정기간통합코드_90036', '약정기간통합코드_90048', '약정기간통합코드__']\n",
      "['셋톱박스모델명_ ', '셋톱박스모델명_BP_210F', '셋톱박스모델명_DAS_H925K', '셋톱박스모델명_DAS_H955K', '셋톱박스모델명_DAS_H965K', '셋톱박스모델명_DAS_H965KL', '셋톱박스모델명_DM1_3900HDIP', '셋톱박스모델명_DM1_DMT_4900_HDIP', '셋톱박스모델명_DM1_HD-0304', '셋톱박스모델명_HMX_BP-310', '셋톱박스모델명_HMX_BP-310L', '셋톱박스모델명_HMX_BP-4000', '셋톱박스모델명_HMX_UHD-S1', '셋톱박스모델명_KAO_IC1000', '셋톱박스모델명_KAO_IC1100', '셋톱박스모델명_KAO_NA-1110', '셋톱박스모델명_KAO_NA1100', '셋톱박스모델명_KAO_NA2200', '셋톱박스모델명_LGT_LSH537', '셋톱박스모델명_LGT_LSH630', '셋톱박스모델명_SMT_E5010', '셋톱박스모델명_SMT_E5012', '셋톱박스모델명_SMT_E7020', '셋톱박스모델명_SSE_GX-KT600EJ', '셋톱박스모델명_SSE_GX-KT601EL', '셋톱박스모델명_SSE_GX-SL602SL', '셋톱박스모델명_SSE_OTV-SMT-E5015', '셋톱박스모델명_SSE_SMT-E5012L', '셋톱박스모델명_SSE_SMT-E5015/PIS', '셋톱박스모델명_SSE_SMT-E5015/PIV', '셋톱박스모델명_SSE_SMT-H6172', '셋톱박스모델명_SSE_SMT_E5015', '셋톱박스모델명_TS110']\n",
      "['셋톱박스제조사명_ ', '셋톱박스제조사명_LG전자(주)', '셋톱박스제조사명_가온미디어', '셋톱박스제조사명_다산네트웍스(주)', '셋톱박스제조사명_삼성전자(주)', '셋톱박스제조사명_주식회사 디엠티', '셋톱박스제조사명_휴맥스']\n",
      "['이동전화채널유형코드_10001', '이동전화채널유형코드_10002', '이동전화채널유형코드_10003', '이동전화채널유형코드__']\n",
      "['이동전화판매경로통합코드_10001', '이동전화판매경로통합코드_10002', '이동전화판매경로통합코드_10003', '이동전화판매경로통합코드_10004', '이동전화판매경로통합코드_10009', '이동전화판매경로통합코드_10012', '이동전화판매경로통합코드_10015', '이동전화판매경로통합코드_10020', '이동전화판매경로통합코드_10021', '이동전화판매경로통합코드_10029', '이동전화판매경로통합코드_10030', '이동전화판매경로통합코드_10031', '이동전화판매경로통합코드_10032', '이동전화판매경로통합코드_10046', '이동전화판매경로통합코드_10050', '이동전화판매경로통합코드_10052', '이동전화판매경로통합코드_10059', '이동전화판매경로통합코드_10061', '이동전화판매경로통합코드_10063', '이동전화판매경로통합코드_10067', '이동전화판매경로통합코드_10069', '이동전화판매경로통합코드_10075', '이동전화판매경로통합코드_10081', '이동전화판매경로통합코드_10082', '이동전화판매경로통합코드_10083', '이동전화판매경로통합코드_10084', '이동전화판매경로통합코드__']\n",
      "['이동전화판매유형통합코드_10001', '이동전화판매유형통합코드_10002', '이동전화판매유형통합코드_10003', '이동전화판매유형통합코드_10004', '이동전화판매유형통합코드_10005', '이동전화판매유형통합코드_10007', '이동전화판매유형통합코드_10010', '이동전화판매유형통합코드_10012', '이동전화판매유형통합코드_10014', '이동전화판매유형통합코드_10015', '이동전화판매유형통합코드_10016', '이동전화판매유형통합코드_10017', '이동전화판매유형통합코드_10018', '이동전화판매유형통합코드__']\n",
      "['이전단말기모델명_HW-VNS-L62D', '이전단말기모델명_SHV-E250K', '이전단말기모델명__']\n",
      "['이전달말기유형__', '이전달말기유형_스마트폰']\n",
      "['기가인터넷시설제공방식유형_10173', '기가인터넷시설제공방식유형_10607', '기가인터넷시설제공방식유형_10608', '기가인터넷시설제공방식유형_10623', '기가인터넷시설제공방식유형__']\n",
      "['이사계약여부_N', '이사계약여부_Y']\n",
      "['개인정보취급위탁동의여부_N', '개인정보취급위탁동의여부_Y', '개인정보취급위탁동의여부__']\n",
      "['인터넷재약정유형통합코드_10002', '인터넷재약정유형통합코드_10003', '인터넷재약정유형통합코드__']\n",
      "['TV추가단말여부_N', 'TV추가단말여부_Y']\n",
      "['최근3개월데이터충전여부_N', '최근3개월데이터충전여부_Y']\n",
      "['올래클럽가입상태_10011', '올래클럽가입상태_10012', '올래클럽가입상태__']\n",
      "['스폰서할인유형_SIMPLE COURSE', '스폰서할인유형__', '스폰서할인유형_요금할인(지원금)']\n",
      "['판매유형__', '판매유형_순수판매']\n",
      "['사용유형_업무용', '사용유형_일반', '사용유형_주택용']\n",
      "['납무방법_QOOK집전화합산', '납무방법__', '납무방법_개인(신용카드)', '납무방법_신용카드', '납무방법_은행계좌 자동이체', '납무방법_지로', '납무방법_지로자동이체']\n",
      "['resp_N', 'resp_Y']\n"
     ]
    }
   ],
   "source": [
    "for cat in categorical:\n",
    "    oh_encoder = preprocess_object[cat]\n",
    "    le = oh_encoder['LabelEncoder']\n",
    "    ohe = oh_encoder['OneHotEncoder']\n",
    "    cat_le_arr = le.transform(dataset[cat])\n",
    "    cat_ohe_arr=ohe.transform(cat_le_arr.reshape(-1,1)).toarray()\n",
    "    oh_df=pd.DataFrame(cat_ohe_arr, columns=[cat+'_'+le.inverse_transform([int(i)])[0] for i in range(cat_ohe_arr.shape[1])])\n",
    "    print([cat+'_'+le.inverse_transform([int(i)])[0] for i in range(cat_ohe_arr.shape[1])])\n",
    "    train_data=pd.concat([train_data, oh_df], axis=1)"
   ]
  },
  {
   "cell_type": "code",
   "execution_count": 16,
   "metadata": {
    "scrolled": true
   },
   "outputs": [],
   "source": [
    "train_label = pd.DataFrame()\n",
    "train_label['resp_N'] = train_data['resp_N']\n",
    "train_label['resp_Y'] = train_data['resp_Y']"
   ]
  },
  {
   "cell_type": "code",
   "execution_count": 17,
   "metadata": {},
   "outputs": [
    {
     "name": "stdout",
     "output_type": "stream",
     "text": [
      "Epoch: 0001 Avg. cost = 0.602\n",
      "Epoch: 0002 Avg. cost = 0.579\n",
      "Epoch: 0003 Avg. cost = 0.576\n",
      "Epoch: 0004 Avg. cost = 0.575\n",
      "Epoch: 0005 Avg. cost = 0.576\n",
      "Epoch: 0006 Avg. cost = 0.573\n",
      "Epoch: 0007 Avg. cost = 0.566\n",
      "Epoch: 0008 Avg. cost = 0.564\n",
      "Epoch: 0009 Avg. cost = 0.561\n",
      "Epoch: 0010 Avg. cost = 0.562\n",
      "Epoch: 0011 Avg. cost = 0.564\n",
      "Epoch: 0012 Avg. cost = 0.559\n",
      "Epoch: 0013 Avg. cost = 0.560\n",
      "Epoch: 0014 Avg. cost = 0.560\n",
      "Epoch: 0015 Avg. cost = 0.551\n",
      "Epoch: 0016 Avg. cost = 0.552\n",
      "Epoch: 0017 Avg. cost = 0.554\n",
      "Epoch: 0018 Avg. cost = 0.547\n",
      "Epoch: 0019 Avg. cost = 0.544\n",
      "Epoch: 0020 Avg. cost = 0.546\n",
      "Epoch: 0021 Avg. cost = 0.541\n",
      "Epoch: 0022 Avg. cost = 0.538\n",
      "Epoch: 0023 Avg. cost = 0.541\n",
      "Epoch: 0024 Avg. cost = 0.535\n",
      "Epoch: 0025 Avg. cost = 0.532\n",
      "Epoch: 0026 Avg. cost = 0.531\n",
      "Epoch: 0027 Avg. cost = 0.527\n",
      "Epoch: 0028 Avg. cost = 0.526\n",
      "Epoch: 0029 Avg. cost = 0.527\n",
      "Epoch: 0030 Avg. cost = 0.522\n",
      "최적화 완료!\n"
     ]
    }
   ],
   "source": [
    "del train_data['resp_N']\n",
    "del train_data['resp_Y']\n",
    "\n",
    "# 학습을 위해 모델 구성 합니다.\n",
    "# DNN 모델 구성\n",
    "X = tf.placeholder(tf.float32, [None, train_data.shape[1]])\n",
    "Y = tf.placeholder(tf.float32, [None, train_label.shape[1]])\n",
    "keep_prob = tf.placeholder(tf.float32)\n",
    "\n",
    "W1 = tf.Variable(tf.random_normal([train_data.shape[1], 256], stddev=0.01))\n",
    "L1 = tf.nn.sigmoid(tf.matmul(X, W1))\n",
    "\n",
    "# 텐서플로우 내장 함수 이용하여 drop 적용합니다.\n",
    "L1 = tf.nn.dropout(L1, keep_prob)\n",
    "\n",
    "W2 = tf.Variable(tf.random_normal([256, 256], stddev=0.01))\n",
    "L2 = tf.nn.sigmoid(tf.matmul(L1, W2))\n",
    "L2 = tf.nn.dropout(L2, keep_prob)\n",
    "\n",
    "W3 = tf.Variable(tf.random_normal([256, train_label.shape[1]], stddev=0.01))\n",
    "model = tf.nn.softmax(tf.matmul(L2, W3))\n",
    "\n",
    "cost = tf.reduce_mean(tf.nn.softmax_cross_entropy_with_logits_v2(logits=model, labels=Y))\n",
    "optimizer = tf.train.AdamOptimizer(0.001).minimize(cost)\n",
    "\n",
    "# DNN 모델 학습 합니다.\n",
    "init = tf.global_variables_initializer()\n",
    "config = tf.ConfigProto()\n",
    "config.gpu_options.allow_growth=True\n",
    "sess=tf.Session(config=config)\n",
    "\n",
    "#sess = tf.Session()\n",
    "sess.run(init)\n",
    "\n",
    "save_file = './output/train_model.ckpt'\n",
    "saver = tf.train.Saver()\n",
    "\n",
    "batch_size = 100\n",
    "total_batch = int(train_data.shape[0]/batch_size)\n",
    "\n",
    "# epoch 300 설정 합니다.\n",
    "for epoch in range(30):\n",
    "  total_cost = 0\n",
    "  for i in range(total_batch):\n",
    "    batch_xs = train_data.sample(batch_size)\n",
    "    batch_ys = train_label.iloc[batch_xs.index]\n",
    "    batch_ys_array = batch_ys.values\n",
    "    _, cost_val, prediction = sess.run([optimizer, cost, model], feed_dict={X: batch_xs, Y: batch_ys_array, keep_prob: 0.8})\n",
    "    total_cost += cost_val\n",
    "  print('Epoch:', '%04d' % (epoch + 1), 'Avg. cost =', '{:.3f}'.format(total_cost / total_batch))\n",
    "  saver.save(sess, save_file)\n",
    "\n",
    "print('최적화 완료!')"
   ]
  },
  {
   "cell_type": "code",
   "execution_count": null,
   "metadata": {},
   "outputs": [],
   "source": []
  },
  {
   "cell_type": "code",
   "execution_count": null,
   "metadata": {},
   "outputs": [],
   "source": [
    " "
   ]
  }
 ],
 "metadata": {
  "kernelspec": {
   "display_name": "Python 3",
   "language": "python",
   "name": "python3"
  },
  "language_info": {
   "codemirror_mode": {
    "name": "ipython",
    "version": 3
   },
   "file_extension": ".py",
   "mimetype": "text/x-python",
   "name": "python",
   "nbconvert_exporter": "python",
   "pygments_lexer": "ipython3",
   "version": "3.6.8"
  }
 },
 "nbformat": 4,
 "nbformat_minor": 2
}
