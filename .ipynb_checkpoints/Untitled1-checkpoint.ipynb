{
 "cells": [
  {
   "cell_type": "code",
   "execution_count": 1,
   "metadata": {},
   "outputs": [
    {
     "name": "stderr",
     "output_type": "stream",
     "text": [
      "Using TensorFlow backend.\n"
     ]
    }
   ],
   "source": [
    "from keras.models import Sequential\n",
    "from keras.layers import Dense\n",
    "\n",
    "import numpy as np\n",
    "import tensorflow as tf\n",
    "import pandas as pd"
   ]
  },
  {
   "cell_type": "code",
   "execution_count": 17,
   "metadata": {},
   "outputs": [],
   "source": [
    "# 파라미터값을 설정합니다.(conf 파일 적용 예정)\n",
    "output_dir = './output/'\n",
    "data_dir = './data/'\n",
    "seed = 0\n",
    "\n",
    "parameter_id = 'default'\n",
    "datafile = 'dataset_all.csv'\n",
    "resp_success = ['지속(정책)', '지속사용(고객혜택제공)', '지속(혜택)']\n",
    "\n",
    "# 서비스 위해 학습 환경 저장 합니다.\n",
    "preprocess_object = {}       # 학습 환경 전체를 저장합니다.\n",
    "preprocess_del_col = []      # 학습 시 삭제한 컬럼 목록 저장합니다.\n",
    "\n",
    "\n"
   ]
  },
  {
   "cell_type": "code",
   "execution_count": 18,
   "metadata": {},
   "outputs": [],
   "source": [
    "Data_set = pd.read_csv(\"dataset/cam_dataset_all.csv\", delimiter=\",\", encoding='UTF8')"
   ]
  },
  {
   "cell_type": "code",
   "execution_count": 19,
   "metadata": {},
   "outputs": [],
   "source": [
    "\n",
    "def resp_func (resp):\n",
    "    if resp in resp_success:\n",
    "        return 'Y'\n",
    "    else:\n",
    "        return 'N'\n",
    "    "
   ]
  },
  {
   "cell_type": "code",
   "execution_count": 20,
   "metadata": {},
   "outputs": [],
   "source": [
    "Data_set['resp'] = Data_set['반응4'].map(resp_func)\n",
    "\n"
   ]
  },
  {
   "cell_type": "code",
   "execution_count": 21,
   "metadata": {},
   "outputs": [],
   "source": [
    "for col in Data_set.columns:\n",
    "    # '_ID' 항목 삭제 합니다.\n",
    "    if col.upper().endswith('ID') or col.upper().endswith('_ID.1'):\n",
    "        del Data_set[col]\n",
    "        preprocess_del_col.append(col)\n",
    "    # '_DATE' 항목 삭제 합니다.\n",
    "    elif col.upper().endswith('일자') or col.upper().endswith('_DATE') or col.upper().endswith('_DATE.1') or col.upper().endswith('_DT.1'):\n",
    "        del Data_set[col]\n",
    "        preprocess_del_col.append(col)\n",
    "    # 범주가 1 이하 항목 삭제 합니다.\n",
    "    elif Data_set[col].value_counts().shape[0] <=1:\n",
    "        del Data_set[col]\n",
    "        preprocess_del_col.append(col)\n",
    "    # 범주범위가 특정 % 이상 항목 삭제 합니다.\n",
    "    elif Data_set[col].value_counts().shape[0]/Data_set.shape[0] > 0.50:\n",
    "        del Data_set[col]\n",
    "        preprocess_del_col.append(col)\n",
    "    # Others 항목 처리 합니다.\n",
    "    else:\n",
    "    \t# 데이터 중 99999 -> 0 변환 합니다.\n",
    "    \tData_set[col] = Data_set[col].replace(99999,0)\n",
    "    \t# 데이터 중 999 -> 0 변환 합니다.\n",
    "    \tData_set[col] = Data_set[col].replace(999,0)"
   ]
  },
  {
   "cell_type": "code",
   "execution_count": null,
   "metadata": {},
   "outputs": [],
   "source": [
    "# 추가 삭제컬럼 입니다.\n",
    "del_list = ['고객번호','반응1','반응2','반응3','반응4']\n",
    "for del_col in del_list:\n",
    "    try:\n",
    "        del dataset[del_col]\n",
    "        preprocess_del_col.append(del_col)\n",
    "    except Exception as e:\n",
    "        print('Deleting Exception :',e)\n",
    "\n",
    "# 예외 처리 합니다.\n",
    "//dataset['AGE_ITG_CD'] = dataset['AGE_ITG_CD'].astype(str)\n",
    "\n",
    "# 삭제 항목 학습 환경에 저장합니다.\n",
    "preprocess_object['del_col'] = preprocess_del_col\n",
    "\n",
    "# 데이터중 null -> 0 처리 합니다.\n",
    "dataset = dataset.fillna(0)\n",
    "\n",
    "# 훈련/테스트 데이터 분리 후 전체/훈련/테스트 데이터 저장 합니다.\n",
    "train_dataset = dataset.sample(frac=0.8, random_state=seed)\n",
    "test_dataset = dataset.drop(train_dataset.index)"
   ]
  }
 ],
 "metadata": {
  "kernelspec": {
   "display_name": "Python 3",
   "language": "python",
   "name": "python3"
  },
  "language_info": {
   "codemirror_mode": {
    "name": "ipython",
    "version": 3
   },
   "file_extension": ".py",
   "mimetype": "text/x-python",
   "name": "python",
   "nbconvert_exporter": "python",
   "pygments_lexer": "ipython3",
   "version": "3.6.8"
  }
 },
 "nbformat": 4,
 "nbformat_minor": 2
}
