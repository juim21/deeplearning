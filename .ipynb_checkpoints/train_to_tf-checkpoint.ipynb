{
 "cells": [
  {
   "cell_type": "code",
   "execution_count": 2,
   "metadata": {},
   "outputs": [],
   "source": [
    "import pandas as pd\n",
    "import ca_util as ca\n",
    "import datetime as dt\n",
    "import sys\n",
    "import csv\n",
    "import pickle\n",
    "import tensorflow as tf\n",
    "from sklearn import preprocessing\n",
    "\n",
    "with open('./output/preprocess_object.pickle','rb') as f:\n",
    "    preprocess_object = pickle.load(f)\n",
    "    \n",
    "dataset = pd.read_csv('./output/train_dataset.csv', delimiter=',', encoding='utf-8',low_memory=False)\n"
   ]
  },
  {
   "cell_type": "code",
   "execution_count": null,
   "metadata": {},
   "outputs": [],
   "source": [
    "dataset"
   ]
  },
  {
   "cell_type": "code",
   "execution_count": 3,
   "metadata": {},
   "outputs": [],
   "source": [
    "number_df = dataset.select_dtypes(include=['int64', 'float64'])\n",
    "scaler = preprocess_object.pop('scaler',None)"
   ]
  },
  {
   "cell_type": "code",
   "execution_count": null,
   "metadata": {},
   "outputs": [],
   "source": []
  },
  {
   "cell_type": "code",
   "execution_count": 4,
   "metadata": {},
   "outputs": [],
   "source": [
    "scaler_arr = scaler.transform(number_df)\n",
    "train_data = pd.DataFrame(scaler_arr, columns=number_df.columns)"
   ]
  },
  {
   "cell_type": "code",
   "execution_count": 5,
   "metadata": {},
   "outputs": [],
   "source": [
    "categorical = list(dataset.select_dtypes(include=['object']).columns)\n",
    "oh_encoder = {}"
   ]
  },
  {
   "cell_type": "code",
   "execution_count": null,
   "metadata": {},
   "outputs": [],
   "source": [
    "for cat in categorical:\n",
    "    oh_encoder = preprocess_object[cat]\n",
    "    le = oh_encoder['LabelEncoder']\n",
    "    ohe = oh_encoder['OneHotEncoder']\n",
    "    cat_le_arr = le.transform(dataset[cat])\n",
    "    cat_ohe_arr=ohe.transform(cat_le_arr.reshape(-1,1)).toarray()\n",
    "    oh_df=pd.DataFrame(cat_ohe_arr, columns=[cat+'_'+le.inverse_transform([int(i)])[0] for i in range(cat_ohe_arr.shape[1])])\n",
    "    print()\n",
    "    train_data=pd.concat([train_data, oh_df], axis=1)"
   ]
  },
  {
   "cell_type": "code",
   "execution_count": null,
   "metadata": {
    "scrolled": true
   },
   "outputs": [],
   "source": [
    "train_label = pd.DataFrame()\n",
    "train_label['resp_N'] = train_data['resp_N']\n",
    "train_label['resp_Y'] = train_data['resp_Y']"
   ]
  },
  {
   "cell_type": "code",
   "execution_count": null,
   "metadata": {},
   "outputs": [],
   "source": [
    "del train_data['resp_N']\n",
    "del train_data['resp_Y']\n",
    "\n",
    "# 학습을 위해 모델 구성 합니다.\n",
    "# DNN 모델 구성\n",
    "X = tf.placeholder(tf.float32, [None, train_data.shape[1]])\n",
    "Y = tf.placeholder(tf.float32, [None, train_label.shape[1]])\n",
    "keep_prob = tf.placeholder(tf.float32)\n",
    "\n",
    "W1 = tf.Variable(tf.random_normal([train_data.shape[1], 256], stddev=0.01))\n",
    "L1 = tf.nn.sigmoid(tf.matmul(X, W1))\n",
    "\n",
    "# 텐서플로우 내장 함수 이용하여 drop 적용합니다.\n",
    "L1 = tf.nn.dropout(L1, keep_prob)\n",
    "\n",
    "W2 = tf.Variable(tf.random_normal([256, 256], stddev=0.01))\n",
    "L2 = tf.nn.sigmoid(tf.matmul(L1, W2))\n",
    "L2 = tf.nn.dropout(L2, keep_prob)\n",
    "\n",
    "W3 = tf.Variable(tf.random_normal([256, train_label.shape[1]], stddev=0.01))\n",
    "model = tf.nn.softmax(tf.matmul(L2, W3))\n",
    "\n",
    "cost = tf.reduce_mean(tf.nn.softmax_cross_entropy_with_logits_v2(logits=model, labels=Y))\n",
    "optimizer = tf.train.AdamOptimizer(0.001).minimize(cost)\n",
    "\n",
    "# DNN 모델 학습 합니다.\n",
    "init = tf.global_variables_initializer()\n",
    "config = tf.ConfigProto()\n",
    "config.gpu_options.allow_growth=True\n",
    "sess=tf.Session(config=config)\n",
    "\n",
    "#sess = tf.Session()\n",
    "sess.run(init)\n",
    "\n",
    "save_file = './output/train_model.ckpt'\n",
    "saver = tf.train.Saver()\n",
    "\n",
    "batch_size = 100\n",
    "total_batch = int(train_data.shape[0]/batch_size)\n",
    "\n",
    "# epoch 300 설정 합니다.\n",
    "for epoch in range(300):\n",
    "  total_cost = 0\n",
    "  for i in range(total_batch):\n",
    "    batch_xs = train_data.sample(batch_size)\n",
    "    batch_ys = train_label.iloc[batch_xs.index]\n",
    "    batch_ys_array = batch_ys.values\n",
    "    _, cost_val, prediction = sess.run([optimizer, cost, model], feed_dict={X: batch_xs, Y: batch_ys_array, keep_prob: 0.8})\n",
    "    total_cost += cost_val\n",
    "  print('Epoch:', '%04d' % (epoch + 1), 'Avg. cost =', '{:.3f}'.format(total_cost / total_batch))\n",
    "  saver.save(sess, save_file)\n",
    "\n",
    "print('최적화 완료!')"
   ]
  },
  {
   "cell_type": "code",
   "execution_count": null,
   "metadata": {},
   "outputs": [],
   "source": []
  },
  {
   "cell_type": "code",
   "execution_count": null,
   "metadata": {},
   "outputs": [],
   "source": [
    " "
   ]
  }
 ],
 "metadata": {
  "kernelspec": {
   "display_name": "Python 3",
   "language": "python",
   "name": "python3"
  },
  "language_info": {
   "codemirror_mode": {
    "name": "ipython",
    "version": 3
   },
   "file_extension": ".py",
   "mimetype": "text/x-python",
   "name": "python",
   "nbconvert_exporter": "python",
   "pygments_lexer": "ipython3",
   "version": "3.6.8"
  }
 },
 "nbformat": 4,
 "nbformat_minor": 2
}
