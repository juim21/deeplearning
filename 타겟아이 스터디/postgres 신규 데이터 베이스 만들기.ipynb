{
 "cells": [
  {
   "cell_type": "code",
   "execution_count": 5,
   "metadata": {},
   "outputs": [],
   "source": [
    "# -*- coding: utf-8 -*- \n",
    "   \n",
    "import psycopg2 as pg2 \n",
    " \n",
    "conn = pg2.connect(\"host = localhost dbname=postgres user=postgres password=sdf123 port=5432\") \n"
   ]
  },
  {
   "cell_type": "code",
   "execution_count": null,
   "metadata": {},
   "outputs": [],
   "source": [
    "# -*- coding: utf-8 -*-\n",
    "import psycopg2 as pg2\n",
    "\n",
    "try:\n",
    "    #port 기본값 : 5432\n",
    "    conn = pg2.connect(\"host=localhost dbname=postgres user=postgres password=1234\")\n",
    "    \n",
    "    #autocommit 없으면, InternalError: CREATE DATABAS cannot run inside a tracsaction block\n",
    "    conn.autocommit= True\n",
    "    cur = conn.cursor()\n",
    "    \n",
    "    #database 만들기\n",
    "    cur.execute('create database testdb') # superuser 만 create database 명령 가능\n",
    "    cur.execute('SELECT version()')\n",
    "    ver = cur.fetchone()\n",
    "except Exception as e:\n",
    "    print 'postgresql database connection error!'\n",
    "    print e\n",
    "else:\n",
    "    print ver\n",
    "finally:\n",
    "    if conn:\n",
    "        conn.close()\n",
    "        \n"
   ]
  }
 ],
 "metadata": {
  "kernelspec": {
   "display_name": "Python 3",
   "language": "python",
   "name": "python3"
  },
  "language_info": {
   "codemirror_mode": {
    "name": "ipython",
    "version": 3
   },
   "file_extension": ".py",
   "mimetype": "text/x-python",
   "name": "python",
   "nbconvert_exporter": "python",
   "pygments_lexer": "ipython3",
   "version": "3.6.8"
  }
 },
 "nbformat": 4,
 "nbformat_minor": 2
}
