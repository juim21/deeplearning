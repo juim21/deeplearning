{
 "cells": [
  {
   "cell_type": "code",
   "execution_count": 3,
   "metadata": {},
   "outputs": [
    {
     "name": "stdout",
     "output_type": "stream",
     "text": [
      " * Serving Flask app \"__main__\" (lazy loading)\n",
      " * Environment: production\n",
      "   WARNING: This is a development server. Do not use it in a production deployment.\n",
      "   Use a production WSGI server instead.\n",
      " * Debug mode: off\n"
     ]
    },
    {
     "name": "stderr",
     "output_type": "stream",
     "text": [
      " * Running on http://127.0.0.1:5000/ (Press CTRL+C to quit)\n",
      "[2019-06-21 15:13:42,237] ERROR in app: Exception on / [GET]\n",
      "Traceback (most recent call last):\n",
      "  File \"c:\\anaconda3\\envs\\tf-gpu\\lib\\site-packages\\flask\\app.py\", line 2311, in wsgi_app\n",
      "    response = self.full_dispatch_request()\n",
      "  File \"c:\\anaconda3\\envs\\tf-gpu\\lib\\site-packages\\flask\\app.py\", line 1834, in full_dispatch_request\n",
      "    rv = self.handle_user_exception(e)\n",
      "  File \"c:\\anaconda3\\envs\\tf-gpu\\lib\\site-packages\\flask\\app.py\", line 1737, in handle_user_exception\n",
      "    reraise(exc_type, exc_value, tb)\n",
      "  File \"c:\\anaconda3\\envs\\tf-gpu\\lib\\site-packages\\flask\\_compat.py\", line 36, in reraise\n",
      "    raise value\n",
      "  File \"c:\\anaconda3\\envs\\tf-gpu\\lib\\site-packages\\flask\\app.py\", line 1832, in full_dispatch_request\n",
      "    rv = self.dispatch_request()\n",
      "  File \"c:\\anaconda3\\envs\\tf-gpu\\lib\\site-packages\\flask\\app.py\", line 1818, in dispatch_request\n",
      "    return self.view_functions[rule.endpoint](**req.view_args)\n",
      "  File \"<ipython-input-3-9d3578469bca>\", line 6, in home\n",
      "    return render_template('home.html')\n",
      "  File \"c:\\anaconda3\\envs\\tf-gpu\\lib\\site-packages\\flask\\templating.py\", line 134, in render_template\n",
      "    return _render(ctx.app.jinja_env.get_or_select_template(template_name_or_list),\n",
      "  File \"c:\\anaconda3\\envs\\tf-gpu\\lib\\site-packages\\jinja2\\environment.py\", line 869, in get_or_select_template\n",
      "    return self.get_template(template_name_or_list, parent, globals)\n",
      "  File \"c:\\anaconda3\\envs\\tf-gpu\\lib\\site-packages\\jinja2\\environment.py\", line 830, in get_template\n",
      "    return self._load_template(name, self.make_globals(globals))\n",
      "  File \"c:\\anaconda3\\envs\\tf-gpu\\lib\\site-packages\\jinja2\\environment.py\", line 804, in _load_template\n",
      "    template = self.loader.load(self, name, globals)\n",
      "  File \"c:\\anaconda3\\envs\\tf-gpu\\lib\\site-packages\\jinja2\\loaders.py\", line 113, in load\n",
      "    source, filename, uptodate = self.get_source(environment, name)\n",
      "  File \"c:\\anaconda3\\envs\\tf-gpu\\lib\\site-packages\\flask\\templating.py\", line 58, in get_source\n",
      "    return self._get_source_fast(environment, template)\n",
      "  File \"c:\\anaconda3\\envs\\tf-gpu\\lib\\site-packages\\flask\\templating.py\", line 86, in _get_source_fast\n",
      "    raise TemplateNotFound(template)\n",
      "jinja2.exceptions.TemplateNotFound: home.html\n",
      "127.0.0.1 - - [21/Jun/2019 15:13:42] \"\u001b[1m\u001b[35mGET / HTTP/1.1\u001b[0m\" 500 -\n",
      "[2019-06-21 15:14:49,167] ERROR in app: Exception on / [GET]\n",
      "Traceback (most recent call last):\n",
      "  File \"c:\\anaconda3\\envs\\tf-gpu\\lib\\site-packages\\flask\\app.py\", line 2311, in wsgi_app\n",
      "    response = self.full_dispatch_request()\n",
      "  File \"c:\\anaconda3\\envs\\tf-gpu\\lib\\site-packages\\flask\\app.py\", line 1834, in full_dispatch_request\n",
      "    rv = self.handle_user_exception(e)\n",
      "  File \"c:\\anaconda3\\envs\\tf-gpu\\lib\\site-packages\\flask\\app.py\", line 1737, in handle_user_exception\n",
      "    reraise(exc_type, exc_value, tb)\n",
      "  File \"c:\\anaconda3\\envs\\tf-gpu\\lib\\site-packages\\flask\\_compat.py\", line 36, in reraise\n",
      "    raise value\n",
      "  File \"c:\\anaconda3\\envs\\tf-gpu\\lib\\site-packages\\flask\\app.py\", line 1832, in full_dispatch_request\n",
      "    rv = self.dispatch_request()\n",
      "  File \"c:\\anaconda3\\envs\\tf-gpu\\lib\\site-packages\\flask\\app.py\", line 1818, in dispatch_request\n",
      "    return self.view_functions[rule.endpoint](**req.view_args)\n",
      "  File \"<ipython-input-3-9d3578469bca>\", line 6, in home\n",
      "    return render_template('home.html')\n",
      "  File \"c:\\anaconda3\\envs\\tf-gpu\\lib\\site-packages\\flask\\templating.py\", line 134, in render_template\n",
      "    return _render(ctx.app.jinja_env.get_or_select_template(template_name_or_list),\n",
      "  File \"c:\\anaconda3\\envs\\tf-gpu\\lib\\site-packages\\jinja2\\environment.py\", line 869, in get_or_select_template\n",
      "    return self.get_template(template_name_or_list, parent, globals)\n",
      "  File \"c:\\anaconda3\\envs\\tf-gpu\\lib\\site-packages\\jinja2\\environment.py\", line 830, in get_template\n",
      "    return self._load_template(name, self.make_globals(globals))\n",
      "  File \"c:\\anaconda3\\envs\\tf-gpu\\lib\\site-packages\\jinja2\\environment.py\", line 804, in _load_template\n",
      "    template = self.loader.load(self, name, globals)\n",
      "  File \"c:\\anaconda3\\envs\\tf-gpu\\lib\\site-packages\\jinja2\\loaders.py\", line 113, in load\n",
      "    source, filename, uptodate = self.get_source(environment, name)\n",
      "  File \"c:\\anaconda3\\envs\\tf-gpu\\lib\\site-packages\\flask\\templating.py\", line 58, in get_source\n",
      "    return self._get_source_fast(environment, template)\n",
      "  File \"c:\\anaconda3\\envs\\tf-gpu\\lib\\site-packages\\flask\\templating.py\", line 86, in _get_source_fast\n",
      "    raise TemplateNotFound(template)\n",
      "jinja2.exceptions.TemplateNotFound: home.html\n",
      "127.0.0.1 - - [21/Jun/2019 15:14:49] \"\u001b[1m\u001b[35mGET / HTTP/1.1\u001b[0m\" 500 -\n",
      "127.0.0.1 - - [21/Jun/2019 15:16:53] \"\u001b[37mGET / HTTP/1.1\u001b[0m\" 200 -\n",
      "127.0.0.1 - - [21/Jun/2019 15:16:53] \"\u001b[33mGET /static/css/main.css HTTP/1.1\u001b[0m\" 404 -\n"
     ]
    }
   ],
   "source": [
    "from flask import Flask, render_template\n",
    "app= Flask(__name__)\n",
    "\n",
    "@app.route('/')\n",
    "def home():\n",
    "    return render_template('home.html')\n",
    "\n",
    "if __name__ =='__main__' : \n",
    "    app.run(debug=False)\n"
   ]
  },
  {
   "cell_type": "code",
   "execution_count": null,
   "metadata": {},
   "outputs": [],
   "source": []
  }
 ],
 "metadata": {
  "kernelspec": {
   "display_name": "Python 3",
   "language": "python",
   "name": "python3"
  },
  "language_info": {
   "codemirror_mode": {
    "name": "ipython",
    "version": 3
   },
   "file_extension": ".py",
   "mimetype": "text/x-python",
   "name": "python",
   "nbconvert_exporter": "python",
   "pygments_lexer": "ipython3",
   "version": "3.6.8"
  }
 },
 "nbformat": 4,
 "nbformat_minor": 2
}
