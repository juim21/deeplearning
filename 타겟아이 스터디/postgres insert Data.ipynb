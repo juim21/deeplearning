{
 "cells": [
  {
   "cell_type": "code",
   "execution_count": 5,
   "metadata": {},
   "outputs": [
    {
     "name": "stdout",
     "output_type": "stream",
     "text": [
      "[(1, '임현빈', '010-1234-1234'), (2, '임현빈1', '010-1234-1235'), (3, '임현빈2', '010-1234-1236'), (4, '임현빈3', '010-1234-1237'), (5, '임현빈4', '010-1234-1238')]\n"
     ]
    }
   ],
   "source": [
    "# -*- coding: utf-8 -*-\n",
    "\n",
    "import psycopg2 as pg2\n",
    "\n",
    "try:\n",
    "    #port 기본값 = 5432\n",
    "    conn = pg2.connect(\"host = localhost dbname=postgres user=postgres password=sdf123\")\n",
    "    cur = conn.cursor()\n",
    "    \n",
    "    cur.execute(\"CREATE TABLE EMP_PER(ID INTEGER PRIMARY KEY, NAME VARCHAR(20), PHONE VARCHAR(20))\")    \n",
    "    #DATA INSERT\n",
    "    cur.execute(\"INSERT INTO EMP_PER VALUES(1,'임현빈', '010-1234-1234')\")\n",
    "    cur.execute(\"INSERT INTO EMP_PER VALUES(2,'임현빈1', '010-1234-1235')\")\n",
    "    cur.execute(\"INSERT INTO EMP_PER VALUES(3,'임현빈2', '010-1234-1236')\")\n",
    "    cur.execute(\"INSERT INTO EMP_PER VALUES(4,'임현빈3', '010-1234-1237')\")\n",
    "    cur.execute(\"INSERT INTO EMP_PER VALUES(5,'임현빈4', '010-1234-1238')\")\n",
    "    \n",
    "    cur.execute(\"SELECT * FROM EMP_PER\")\n",
    "    rows = cur.fetchall()\n",
    "    conn.commit()\n",
    "except Exception as e:\n",
    "    print ('postgresql database connection error!')\n",
    "    print (e)\n",
    "    \n",
    "    if conn:\n",
    "        conn.rollback()\n",
    "else:\n",
    "    print (rows)\n",
    "finally:\n",
    "    if conn:\n",
    "        conn.close()"
   ]
  },
  {
   "cell_type": "code",
   "execution_count": null,
   "metadata": {},
   "outputs": [],
   "source": []
  }
 ],
 "metadata": {
  "kernelspec": {
   "display_name": "Python 3",
   "language": "python",
   "name": "python3"
  },
  "language_info": {
   "codemirror_mode": {
    "name": "ipython",
    "version": 3
   },
   "file_extension": ".py",
   "mimetype": "text/x-python",
   "name": "python",
   "nbconvert_exporter": "python",
   "pygments_lexer": "ipython3",
   "version": "3.6.8"
  }
 },
 "nbformat": 4,
 "nbformat_minor": 2
}
