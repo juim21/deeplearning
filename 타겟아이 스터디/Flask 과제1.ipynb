{
 "cells": [
  {
   "cell_type": "code",
   "execution_count": null,
   "metadata": {},
   "outputs": [
    {
     "name": "stdout",
     "output_type": "stream",
     "text": [
      " * Serving Flask app \"__main__\" (lazy loading)\n",
      " * Environment: production\n",
      "   WARNING: This is a development server. Do not use it in a production deployment.\n",
      "   Use a production WSGI server instead.\n",
      " * Debug mode: off\n"
     ]
    },
    {
     "name": "stderr",
     "output_type": "stream",
     "text": [
      " * Running on http://0.0.0.0:5001/ (Press CTRL+C to quit)\n",
      "127.0.0.1 - - [21/Jun/2019 16:15:03] \"\u001b[37mGET /searchUser HTTP/1.1\u001b[0m\" 200 -\n",
      "127.0.0.1 - - [21/Jun/2019 16:15:09] \"\u001b[37mPOST /searchUser HTTP/1.1\u001b[0m\" 200 -\n",
      "127.0.0.1 - - [21/Jun/2019 16:15:19] \"\u001b[37mPOST /searchUser HTTP/1.1\u001b[0m\" 200 -\n",
      "127.0.0.1 - - [21/Jun/2019 16:15:25] \"\u001b[37mPOST /searchUser HTTP/1.1\u001b[0m\" 200 -\n",
      "127.0.0.1 - - [21/Jun/2019 16:15:31] \"\u001b[37mPOST /searchUser HTTP/1.1\u001b[0m\" 200 -\n"
     ]
    }
   ],
   "source": [
    "#-*- coding:utf-8 -*-\n",
    "from flask import Flask\n",
    "from flask_restful import Resource, Api, reqparse\n",
    "\n",
    "import psycopg2\n",
    "\n",
    "#db conn info\n",
    "user = 'postgres'\n",
    "password = 'sdf123'\n",
    "host_product = 'localhost'\n",
    "dbname = 'postgres'\n",
    "port = '5432'\n",
    "\n",
    "app = Flask(__name__)\n",
    "api = Api(app)\n",
    "\n",
    "class CreateUser(Resource):\n",
    "    def post(self):\n",
    "        return {'status':'success'}\n",
    "    def get(self):\n",
    "        return {'getmethod':'fail'}\n",
    "    \n",
    "class SearchUser(Resource):\n",
    "    def post(self):\n",
    "        try:\n",
    "            parser = reqparse.RequestParser()\n",
    "            parser.add_argument('id', type=str)\n",
    "            args = parser.parse_args()\n",
    "            \n",
    "            #사번\n",
    "            _userId = args['id']\n",
    "            \n",
    "            #db conn\n",
    "            conn_string = 'dbname={dbname} user={user} host={host} password={password} port={port}'\\\n",
    "                            .format(dbname=dbname, user=user, host=host_product, password=password, port=port)\n",
    "            try:\n",
    "                conn = psycopg2.connect(conn_string)\n",
    "            except Exception as e:\n",
    "                print ('postgresql database connection error!')\n",
    "                print (e)\n",
    "            cur = conn.cursor()\n",
    "            \n",
    "            #쿼리 입력\n",
    "            statement = 'SELECT NAME \\\n",
    "                           FROM EMP_PER \\\n",
    "                          WHERE ID = %s \\\n",
    "                          limit 1' \n",
    "            #쿼리 실행\n",
    "            cur.execute(statement, (_userId,))\n",
    "            result = cur.fetchall()\n",
    "            cur.close()\n",
    "            \n",
    "            return {'Employee Number': args['id'],'Employee Name': result[0][0]}\n",
    "        except Exception as e:\n",
    "            return {'error':str(e)}\n",
    "    \n",
    "    def get(self):\n",
    "        return {'getmethod':'fail'}\n",
    "        \n",
    "api.add_resource(CreateUser, '/user')\n",
    "api.add_resource(SearchUser, '/searchUser')\n",
    "\n",
    "#debug=는 코드 변경이 있을 때 Flask 서버 자체적으로 이를 감지하고 리로드할지에 대한 것을 설정할 수 있다. \n",
    "\n",
    "if __name__ == '__main__':\n",
    "    app.run(debug=False, host='0.0.0.0', port='5001')"
   ]
  },
  {
   "cell_type": "code",
   "execution_count": null,
   "metadata": {},
   "outputs": [],
   "source": []
  }
 ],
 "metadata": {
  "kernelspec": {
   "display_name": "Python 3",
   "language": "python",
   "name": "python3"
  },
  "language_info": {
   "codemirror_mode": {
    "name": "ipython",
    "version": 3
   },
   "file_extension": ".py",
   "mimetype": "text/x-python",
   "name": "python",
   "nbconvert_exporter": "python",
   "pygments_lexer": "ipython3",
   "version": "3.6.8"
  }
 },
 "nbformat": 4,
 "nbformat_minor": 2
}
