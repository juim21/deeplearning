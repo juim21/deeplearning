{
 "cells": [
  {
   "cell_type": "code",
   "execution_count": null,
   "metadata": {},
   "outputs": [],
   "source": [
    "import sklearn\n",
    "from sklearn import datasets\n",
    "boston = datasets.load_boston()"
   ]
  },
  {
   "cell_type": "code",
   "execution_count": null,
   "metadata": {},
   "outputs": [],
   "source": [
    "print(boston)"
   ]
  },
  {
   "cell_type": "code",
   "execution_count": null,
   "metadata": {},
   "outputs": [],
   "source": [
    "print(boston.keys())"
   ]
  },
  {
   "cell_type": "code",
   "execution_count": null,
   "metadata": {},
   "outputs": [],
   "source": [
    "from sklearn.linear_model import LinearRegression\n",
    "import numpy as np \n",
    "\n",
    "lr = LinearRegression()\n",
    "lr.fit(boston.data, boston.target)"
   ]
  },
  {
   "cell_type": "raw",
   "metadata": {},
   "source": []
  },
  {
   "cell_type": "code",
   "execution_count": null,
   "metadata": {},
   "outputs": [],
   "source": [
    "lr.predict(boston.data[2].reshape(1,-1))"
   ]
  },
  {
   "cell_type": "code",
   "execution_count": null,
   "metadata": {},
   "outputs": [],
   "source": [
    "print([x for x in zip(boston.feature_names, lr.coef_)])"
   ]
  },
  {
   "cell_type": "code",
   "execution_count": 2,
   "metadata": {},
   "outputs": [],
   "source": [
    "import tensorflow as tf\n"
   ]
  },
  {
   "cell_type": "code",
   "execution_count": null,
   "metadata": {},
   "outputs": [],
   "source": [
    "#세션을 선언하지 않은 ta 값 출력 - Error\n",
    "ta = tf.zeros((2,2))\n",
    "\\print(ta.eval())"
   ]
  },
  {
   "cell_type": "code",
   "execution_count": null,
   "metadata": {},
   "outputs": [],
   "source": [
    "#세션을 사용하도록 한 뒤 호출\n",
    "session = tf.InteractiveSession()#명령행에서 텐서플로 세션 사용\n",
    "print(ta.eval())\n",
    "session.close()\n",
    "#0뒤에 .이 붙는 이유는 정수형이 아닌 tf.zeros의 기본 데이터형인 tf.float32 "
   ]
  },
  {
   "cell_type": "code",
   "execution_count": null,
   "metadata": {},
   "outputs": [],
   "source": [
    "#텐서플로의 특징은 모든 계산이 세션안에서 실행(run()) 또는 평가(eval())함수를 이용하여 호출되어야 함"
   ]
  },
  {
   "cell_type": "code",
   "execution_count": null,
   "metadata": {},
   "outputs": [],
   "source": [
    "#학습시에 업데이트 하는 파라미터를 저장하는 변수, tf.Variable() 함수 이용해야 함 (텐서 생성시 사용)\n",
    "#상수 텐서와 달리 변수는 초기화 해야함(초기값을 알 수 없음)\n",
    "W1= tf.zeros((3,3)) # 상수텐서 모든 요소값이 0인 3X3 행렬\n",
    "W2 = tf.Variable(tf.zeros((2,2)), name = 'weights') # 변수 텐서,.모든 요소값이 2X2인 행렬"
   ]
  },
  {
   "cell_type": "code",
   "execution_count": null,
   "metadata": {},
   "outputs": [],
   "source": [
    "session = tf.InteractiveSession()\n",
    "print(W1.eval())\n",
    "#초기화 하지 않은 값을 출력하였으믈로 에러 발생\n",
    "print(W2.eval())"
   ]
  },
  {
   "cell_type": "code",
   "execution_count": null,
   "metadata": {},
   "outputs": [],
   "source": [
    "#변수 초기화를 위해 global_variables_initializer 함수 사용\n",
    "session= tf.InteractiveSession()\n",
    "session.run(tf.global_variables_initializer())\n",
    "\n",
    "print(W1.eval())\n",
    "print(W2.eval())"
   ]
  },
  {
   "cell_type": "code",
   "execution_count": null,
   "metadata": {},
   "outputs": [],
   "source": [
    "#tf.placeholder feed_dict는 텐서플로 연산 그래프에 입력 데이터를 넣기위해 사용\n",
    "#tf.placeholder는 임시변수(구체적형태, 값이 정해져 있지 않음)\n",
    "#feed_dict는 플레이스홀더와 실제값을 연결하는 역할\n",
    "input1 = tf.placeholder(tf.float32,3)#tf.float32형 값을 3개 가지는 플레이스홀더\n",
    "input2 = tf.placeholder(tf.float32)#tf.float32형 값을 가지는 플레이스홀더\n",
    "output = tf.multiply(input1,input2) #두 입력을 곱하는 함수"
   ]
  },
  {
   "cell_type": "code",
   "execution_count": null,
   "metadata": {},
   "outputs": [],
   "source": [
    "session = tf.InteractiveSession()\n",
    "print(session.run([output], feed_dict={input1:[1.,2.,3.,], input2:[3.]}))"
   ]
  },
  {
   "cell_type": "code",
   "execution_count": null,
   "metadata": {},
   "outputs": [],
   "source": [
    "#텐서보드 사용법\n",
    "#그래프 생성 뒤 filewriter 함수에 인자로 주어 시각화 하는 방법, \n",
    "#tf.scalar_summary 클래스에 추적하고 싶은 값을 인자로 갖는 기록함수 생성하여 세션이 시작된 후 \n",
    "#SummaryWriter 함수에 그 함수를 인자로 넣어 기록하는 방법\n",
    "session = tf.InteractiveSession()\n",
    "a = tf.constant(2)#상수텐서\n",
    "b = tf.constant(3)#상수텐서\n",
    "x = tf. add(a,b)#상수 텐서의 덧셈\n",
    "writer = tf.summary.FileWriter('./graphs',session.graph)#현재폴더 아래에 graphs 폴더 생성 후 현재 세션의 그래프 정보를 저장\n",
    "session.run(x)#덧셈 수행 #덧셈의 결괏값\n",
    "writer.close()#파일라이터 닫기\n",
    "session.close()#세션 닫기"
   ]
  },
  {
   "cell_type": "code",
   "execution_count": 3,
   "metadata": {},
   "outputs": [],
   "source": [
    "#Name을 주지 않아 이해가 어려우므로 선언 시 name을 지정해서 그래프 생성\n",
    "session = tf.InteractiveSession()\n",
    "a = tf.constant(2, name = 'a')\n",
    "b = tf.constant(3, name ='b')\n",
    "x = tf.add(a,b)\n",
    "writer = tf.summary.FileWriter('./graphs',session.graph)\n",
    "session.run(x)\n",
    "writer.close()\n",
    "session.close()"
   ]
  },
  {
   "cell_type": "code",
   "execution_count": null,
   "metadata": {},
   "outputs": [],
   "source": []
  }
 ],
 "metadata": {
  "kernelspec": {
   "display_name": "Python 3",
   "language": "python",
   "name": "python3"
  },
  "language_info": {
   "codemirror_mode": {
    "name": "ipython",
    "version": 3
   },
   "file_extension": ".py",
   "mimetype": "text/x-python",
   "name": "python",
   "nbconvert_exporter": "python",
   "pygments_lexer": "ipython3",
   "version": "3.6.8"
  }
 },
 "nbformat": 4,
 "nbformat_minor": 2
}
