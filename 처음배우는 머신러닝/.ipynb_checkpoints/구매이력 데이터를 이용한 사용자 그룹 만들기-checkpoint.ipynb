{
 "cells": [
  {
   "cell_type": "code",
   "execution_count": 1,
   "metadata": {},
   "outputs": [],
   "source": [
    "#Online Retail 데이터 기본 정보\n",
    "#InvoiceNo 6자리 숫자로 된 고유번호\n",
    "#StockCode 5자리 숫자로 된 상품코드(상품으로 간주)\n",
    "#Description 상품명\n",
    "#Quantity 한 거래당 판매된 상품 수\n",
    "#InvoiceDate 거래가 성립된 일시 MM/DD/YY HH:MM\n",
    "#UnitPrice 가격\n",
    "#CustomerID 사용자ID\n",
    "#Country 사용자 국가\n",
    "\n",
    "#2011년 거래 데이터를 이용하여 같은 상품을 구입한 영국에 거주하는 사용자 그룹을 찾기\n",
    "#StockCode를 이용하여 CustomerID 군집화\n"
   ]
  },
  {
   "cell_type": "code",
   "execution_count": 2,
   "metadata": {},
   "outputs": [],
   "source": [
    "#데이터 전처리\n",
    "#고유 사용자 수와 고유 상품 수를 사용하므로 기초 통계량 조사\n",
    "#전체 사용자 수 및 상품 수를 구하고, 한 사용자고 구매한 고유 상품 수의 기초 통계량(고유상품 수의 최솟값, 최댓값, 평균값, 표준편차)\n",
    "#기초 통계량을 구하면 데이터 전체 모습과 군집화의 노이즈가 될 수 있는 예외값 알 수 있음\n",
    "\n",
    "#user_product_dic : 사용자ID를 키로 그 사용자가 구입한 상품코드의 셋을 값으로 하는 딕셔너리\n",
    "#product_user_dic : 상품코드를 키로 그 상품을 구입한 사용자ID의 셋을 값으로 하는 딕셔너리\n",
    "\n",
    "#product_per_user_li를 이용하여 사용자 구매한 상품수를 리스트에 저장, 사용자 구매한 고유상품의 최솟값, 최댓값, 평균값, 표준편차 구함\n",
    "#product_id_name_dic: 상품코드를 키로 상품명을 값으로 하는 딕셔너리\n",
    "\n",
    "\n"
   ]
  },
  {
   "cell_type": "code",
   "execution_count": 4,
   "metadata": {},
   "outputs": [],
   "source": [
    "import time\n",
    "from scipy import stats\n",
    "\n",
    "# 데이터 구조 정의\n",
    "# 사용자ID를 키로 갖고 상품코드의 셋을 값으로 갖는 딕셔너리와\n",
    "# 상품코드를 키로 갖고 사용자 ID의 셋을 값으로 갖는 딕셔너리\n",
    "user_product_dic= {}\n",
    "product_user_dic= {}\n",
    "\n",
    "# 상품 코드를 키로 갖고 상품명을 값으로 갖는 딕셔너리\n",
    "# 군집화의 내용을 확인하는 단계에서 상품명을 사용\n",
    "product_id_name_dic = {}\n",
    "\n"
   ]
  },
  {
   "cell_type": "code",
   "execution_count": 7,
   "metadata": {},
   "outputs": [
    {
     "ename": "NameError",
     "evalue": "name 'user_product_dic' is not defined",
     "output_type": "error",
     "traceback": [
      "\u001b[1;31m---------------------------------------------------------------------------\u001b[0m",
      "\u001b[1;31mNameError\u001b[0m                                 Traceback (most recent call last)",
      "\u001b[1;32m<ipython-input-7-b579e4309352>\u001b[0m in \u001b[0;36m<module>\u001b[1;34m\u001b[0m\n\u001b[0;32m     38\u001b[0m \u001b[1;33m\u001b[0m\u001b[0m\n\u001b[0;32m     39\u001b[0m \u001b[1;31m# 데이터 구조를 다 채웠으므로 각 사용자가 구매한 상품 가짓수로 리스트를 만든다\u001b[0m\u001b[1;33m\u001b[0m\u001b[1;33m\u001b[0m\u001b[1;33m\u001b[0m\u001b[0m\n\u001b[1;32m---> 40\u001b[1;33m \u001b[0mproduct_per_user_li\u001b[0m \u001b[1;33m=\u001b[0m \u001b[1;33m[\u001b[0m\u001b[0mlen\u001b[0m\u001b[1;33m(\u001b[0m\u001b[0mx\u001b[0m\u001b[1;33m)\u001b[0m \u001b[1;32mfor\u001b[0m \u001b[0mx\u001b[0m \u001b[1;32min\u001b[0m \u001b[0muser_product_dic\u001b[0m\u001b[1;33m.\u001b[0m\u001b[0mvalues\u001b[0m\u001b[1;33m(\u001b[0m\u001b[1;33m)\u001b[0m\u001b[1;33m]\u001b[0m\u001b[1;33m\u001b[0m\u001b[1;33m\u001b[0m\u001b[0m\n\u001b[0m\u001b[0;32m     41\u001b[0m \u001b[1;33m\u001b[0m\u001b[0m\n\u001b[0;32m     42\u001b[0m \u001b[1;31m# 이 장에서 사용할 최종 사용자 수와 상품 가짓수를 출력\u001b[0m\u001b[1;33m\u001b[0m\u001b[1;33m\u001b[0m\u001b[1;33m\u001b[0m\u001b[0m\n",
      "\u001b[1;31mNameError\u001b[0m: name 'user_product_dic' is not defined"
     ]
    }
   ],
   "source": [
    "# 파일을 읽어 위에서 정의한 데이터구조를 채움\n",
    "for line in open ('Online Retail.txt'):\n",
    "    #데이터를 한 행씩 읽어 필요한 항목을 저장.\n",
    "    line_items = line.strip().split('\\t')\n",
    "    user_code = line_items[6]\n",
    "    product_id = line_items[1]\n",
    "    product_name = line_items[2]\n",
    "    \n",
    "    #사용자 ID가 없을 경우 무시\n",
    "    if len(user_code) ==0:\n",
    "        continue\n",
    "    \n",
    "    #영국에서 구매한 사용자만 고려하므로 국가가 united kingdom이 아닌 경우 무시\n",
    "    country = line_items[7]\n",
    "    if country != 'United Kindom':\n",
    "        continue\n",
    "        \n",
    "    #연도를 읽을 때 에러처리, 파일 헤더 무시\n",
    "    try:\n",
    "        invoice_year = time.strptime(line_items[4], '%m/%d/%y %H:%M').tm_year\n",
    "        \n",
    "    except ValueError:\n",
    "        continue\n",
    "    \n",
    "    #2011년에 일어난 구매가 아닌 것은 무시\n",
    "    if invoice_year !=2011:\n",
    "        continue\n",
    "    \n",
    "    #읽은 정보로 데이터 구조를 채웁니다.\n",
    "    #상품 가짓수를 고려하므로 상품코드를 셋으로 가지도록 함\n",
    "    user_product_dic.setdefault(user_code, set())\n",
    "    user_product_dic[user_code].add(product_id)\n",
    "    \n",
    "    product_user_dic.setdefault(product_id, set())\n",
    "    product_user_dic[product_id].add(user_code)\n",
    "    \n",
    "    product_id_name_dic[product_id] = product_name\n",
    "\n",
    "# 데이터 구조를 다 채웠으므로 각 사용자가 구매한 상품 가짓수로 리스트를 만든다\n",
    "product_per_user_li = [len(x) for x in user_product_dic.values()]\n",
    "\n",
    "# 이 장에서 사용할 최종 사용자 수와 상품 가짓수를 출력\n",
    "print('# of users:', len(user_product_dic))\n",
    "print('# of products',len(product_user_dic))\n",
    "\n",
    "#각 사용자가 구매한 상품 가짓수로 기초 통계량을 출력\n",
    "print(stats.describe(product_per_user_li))\n",
    "\n"
   ]
  },
  {
   "cell_type": "code",
   "execution_count": null,
   "metadata": {},
   "outputs": [],
   "source": []
  }
 ],
 "metadata": {
  "kernelspec": {
   "display_name": "Python 3",
   "language": "python",
   "name": "python3"
  },
  "language_info": {
   "codemirror_mode": {
    "name": "ipython",
    "version": 3
   },
   "file_extension": ".py",
   "mimetype": "text/x-python",
   "name": "python",
   "nbconvert_exporter": "python",
   "pygments_lexer": "ipython3",
   "version": "3.6.8"
  }
 },
 "nbformat": 4,
 "nbformat_minor": 2
}
