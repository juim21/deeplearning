{
 "cells": [
  {
   "cell_type": "code",
   "execution_count": 1,
   "metadata": {},
   "outputs": [],
   "source": [
    "#오차역전파는 출력층으로부터 하나씩 앞으로 되돌아가며 각 층의 가중치를 수정하는 방법\n",
    "#가중치 수정에는 미분값, 기울기가 필요\n",
    "#층이 늘어나면서 기울기가 중간에 0이 되는 기울기 소실 문제 발생\n",
    "#해소하기 위해 다양한 활성화 함수 존재\n",
    "#하이퍼볼릭 탄젠트 : 시그모이드 함수 범위를 -1에서 1로 확장한 개념 --> 여전히 1보다 작은 값이 존재\n",
    "#렐루 : 시그모이드의 대안으로 현재 가장 많이 사용, x가 0보다 작을 때는 0으로 처리 0보다 클때는 x를 사용\n",
    "#렐루의 0이 되는 순간을 완화한 소프트플러스 등 변형함수 개발 중\n",
    "\n"
   ]
  },
  {
   "cell_type": "code",
   "execution_count": 2,
   "metadata": {},
   "outputs": [],
   "source": [
    "#경사하강법은 정확하게 가중치를 찾지만 업데이트마다 전체 데이터를 미분해야 하므로 계산량이 많아짐\n",
    "#확률적 경사 하강법 : 전체 데이터를 사용하는 것이 아니라 랜덤하게 추출한 일부 데이터 사용\n",
    "#모멘텀 : 탄력,관성, 가속도\n",
    "#         경사하강법과 마찬가지로 매번 기울기를 구하지만, \n",
    "#         이를 통해 오차를 수정하기 전 바로 앞 수정값과 방향을 참고하여 같은 방향으로 일정한 비율만 수정\n",
    "#         수정 방향이 양수 한번, 음수 한번으로 지그재그 일어나는 현상이 줄어들고 \n",
    "#         이전 이동값을 고려하여 일정 비율만큼만 다음값 결정하여 관성효과를 낼 수 있음\n",
    "#아담이 현재 가장 많이 쓰는 고급 경사 하강법"
   ]
  },
  {
   "cell_type": "code",
   "execution_count": null,
   "metadata": {},
   "outputs": [],
   "source": []
  }
 ],
 "metadata": {
  "kernelspec": {
   "display_name": "Python 3",
   "language": "python",
   "name": "python3"
  },
  "language_info": {
   "codemirror_mode": {
    "name": "ipython",
    "version": 3
   },
   "file_extension": ".py",
   "mimetype": "text/x-python",
   "name": "python",
   "nbconvert_exporter": "python",
   "pygments_lexer": "ipython3",
   "version": "3.6.8"
  }
 },
 "nbformat": 4,
 "nbformat_minor": 2
}
