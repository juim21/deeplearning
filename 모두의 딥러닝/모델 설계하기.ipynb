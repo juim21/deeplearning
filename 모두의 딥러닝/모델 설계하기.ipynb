{
 "cells": [
  {
   "cell_type": "code",
   "execution_count": 1,
   "metadata": {},
   "outputs": [
    {
     "name": "stderr",
     "output_type": "stream",
     "text": [
      "Using TensorFlow backend.\n"
     ]
    }
   ],
   "source": [
    "#모델 설계하기\n",
    "#폐암 수술 환자의 생존률 예측\n",
    "# 딥러닝을 구동하는 데 필요한 케라스 함수를 불러옴\n",
    "from keras.models import Sequential\n",
    "from keras.layers import Dense"
   ]
  },
  {
   "cell_type": "code",
   "execution_count": 2,
   "metadata": {},
   "outputs": [],
   "source": [
    "#필요한 라이브러리를 불러옵니다.\n",
    "import numpy\n",
    "import tensorflow as tf"
   ]
  },
  {
   "cell_type": "code",
   "execution_count": 3,
   "metadata": {},
   "outputs": [],
   "source": [
    "#실행할 때마다 같은 결과를 출력하기 위해 설정하는 부분\n",
    "seed =0;\n",
    "numpy.random.seed(seed)\n",
    "tf.set_random_seed(seed)"
   ]
  },
  {
   "cell_type": "code",
   "execution_count": 5,
   "metadata": {},
   "outputs": [],
   "source": [
    "#준비된 수술 환자 데이터를 불러드림\n",
    "Data_set = numpy.loadtxt(\"../dataset/ThoraricSurgery.csv\",delimiter=\",\")"
   ]
  },
  {
   "cell_type": "code",
   "execution_count": 7,
   "metadata": {},
   "outputs": [],
   "source": [
    "# 환자의 기록과 수술 결과를 X와 Y로 구분하여 저장\n",
    "X = Data_set[:,0:17]\n",
    "Y = Data_set[:,17]"
   ]
  },
  {
   "cell_type": "code",
   "execution_count": 8,
   "metadata": {},
   "outputs": [],
   "source": [
    "#딥러닝 구조를 결정(모델설정 실행 부분)\n",
    "model = Sequential()\n",
    "model.add (Dense(30,input_dim=17, activation='relu'))\n",
    "model.add(Dense(1,activation='sigmoid'))"
   ]
  },
  {
   "cell_type": "code",
   "execution_count": 12,
   "metadata": {},
   "outputs": [
    {
     "name": "stdout",
     "output_type": "stream",
     "text": [
      "Epoch 1/30\n",
      "470/470 [==============================] - 1s 2ms/step - loss: 1.0482 - acc: 0.7872\n",
      "Epoch 2/30\n",
      "470/470 [==============================] - 0s 286us/step - loss: 0.7271 - acc: 0.7809\n",
      "Epoch 3/30\n",
      "470/470 [==============================] - 0s 291us/step - loss: 0.5460 - acc: 0.8021\n",
      "Epoch 4/30\n",
      "470/470 [==============================] - 0s 300us/step - loss: 0.4976 - acc: 0.8404\n",
      "Epoch 5/30\n",
      "470/470 [==============================] - 0s 288us/step - loss: 0.4559 - acc: 0.8468\n",
      "Epoch 6/30\n",
      "470/470 [==============================] - 0s 309us/step - loss: 0.4461 - acc: 0.8468\n",
      "Epoch 7/30\n",
      "470/470 [==============================] - 0s 298us/step - loss: 0.4312 - acc: 0.8511\n",
      "Epoch 8/30\n",
      "470/470 [==============================] - 0s 283us/step - loss: 0.4841 - acc: 0.8468\n",
      "Epoch 9/30\n",
      "470/470 [==============================] - 0s 304us/step - loss: 0.4444 - acc: 0.8511\n",
      "Epoch 10/30\n",
      "470/470 [==============================] - 0s 288us/step - loss: 0.4220 - acc: 0.8511\n",
      "Epoch 11/30\n",
      "470/470 [==============================] - 0s 317us/step - loss: 0.4349 - acc: 0.8511\n",
      "Epoch 12/30\n",
      "470/470 [==============================] - 0s 321us/step - loss: 0.4387 - acc: 0.8511\n",
      "Epoch 13/30\n",
      "470/470 [==============================] - 0s 289us/step - loss: 0.4369 - acc: 0.8511\n",
      "Epoch 14/30\n",
      "470/470 [==============================] - 0s 328us/step - loss: 0.4292 - acc: 0.8511\n",
      "Epoch 15/30\n",
      "470/470 [==============================] - 0s 310us/step - loss: 0.4329 - acc: 0.8489\n",
      "Epoch 16/30\n",
      "470/470 [==============================] - 0s 291us/step - loss: 0.4899 - acc: 0.8362\n",
      "Epoch 17/30\n",
      "470/470 [==============================] - 0s 294us/step - loss: 0.4145 - acc: 0.8532\n",
      "Epoch 18/30\n",
      "470/470 [==============================] - 0s 321us/step - loss: 0.4375 - acc: 0.8468\n",
      "Epoch 19/30\n",
      "470/470 [==============================] - 0s 290us/step - loss: 0.4628 - acc: 0.8319\n",
      "Epoch 20/30\n",
      "470/470 [==============================] - 0s 301us/step - loss: 0.4663 - acc: 0.8468\n",
      "Epoch 21/30\n",
      "470/470 [==============================] - 0s 282us/step - loss: 0.4676 - acc: 0.8404\n",
      "Epoch 22/30\n",
      "470/470 [==============================] - 0s 327us/step - loss: 0.4345 - acc: 0.8532\n",
      "Epoch 23/30\n",
      "470/470 [==============================] - 0s 276us/step - loss: 0.4408 - acc: 0.8489\n",
      "Epoch 24/30\n",
      "470/470 [==============================] - 0s 301us/step - loss: 0.4653 - acc: 0.8404\n",
      "Epoch 25/30\n",
      "470/470 [==============================] - 0s 295us/step - loss: 0.4284 - acc: 0.8511\n",
      "Epoch 26/30\n",
      "470/470 [==============================] - 0s 378us/step - loss: 0.4361 - acc: 0.8447\n",
      "Epoch 27/30\n",
      "470/470 [==============================] - 0s 395us/step - loss: 0.4556 - acc: 0.8319\n",
      "Epoch 28/30\n",
      "470/470 [==============================] - 0s 395us/step - loss: 0.4480 - acc: 0.8489\n",
      "Epoch 29/30\n",
      "470/470 [==============================] - 0s 352us/step - loss: 0.4145 - acc: 0.8511\n",
      "Epoch 30/30\n",
      "470/470 [==============================] - 0s 371us/step - loss: 0.4274 - acc: 0.8447\n"
     ]
    },
    {
     "data": {
      "text/plain": [
       "<keras.callbacks.History at 0x1d52f452160>"
      ]
     },
     "execution_count": 12,
     "metadata": {},
     "output_type": "execute_result"
    }
   ],
   "source": [
    "#딥러닝 실행합니다.\n",
    "model.compile(loss='binary_crossentropy', optimizer='adam',metrics=['accuracy'])\n",
    "model.fit(X,Y,epochs=30, batch_size=10)"
   ]
  },
  {
   "cell_type": "code",
   "execution_count": 13,
   "metadata": {},
   "outputs": [
    {
     "name": "stdout",
     "output_type": "stream",
     "text": [
      "470/470 [==============================] - 0s 137us/step\n",
      "\n",
      " Accuracy: 0.8511\n"
     ]
    }
   ],
   "source": [
    "#결과를 출력\n",
    "print(\"\\n Accuracy: %.4f\"% (model.evaluate(X,Y)[1]))"
   ]
  },
  {
   "cell_type": "code",
   "execution_count": null,
   "metadata": {},
   "outputs": [],
   "source": []
  }
 ],
 "metadata": {
  "kernelspec": {
   "display_name": "Python 3",
   "language": "python",
   "name": "python3"
  },
  "language_info": {
   "codemirror_mode": {
    "name": "ipython",
    "version": 3
   },
   "file_extension": ".py",
   "mimetype": "text/x-python",
   "name": "python",
   "nbconvert_exporter": "python",
   "pygments_lexer": "ipython3",
   "version": "3.6.8"
  }
 },
 "nbformat": 4,
 "nbformat_minor": 2
}
