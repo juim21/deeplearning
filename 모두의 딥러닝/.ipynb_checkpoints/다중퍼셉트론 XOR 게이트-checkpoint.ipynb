{
 "cells": [
  {
   "cell_type": "code",
   "execution_count": null,
   "metadata": {},
   "outputs": [],
   "source": [
    "#퍼셉트론\n",
    "#입력값과 활성화 함수를 사용해 출력 값을 다음으로 넘기는 가장 작은 신경망 단위\n",
    "\n",
    "#다층 퍼셉트론\n",
    "#XOR 문제 해결 방식\n",
    "\n"
   ]
  }
 ],
 "metadata": {
  "kernelspec": {
   "display_name": "Python 3",
   "language": "python",
   "name": "python3"
  },
  "language_info": {
   "codemirror_mode": {
    "name": "ipython",
    "version": 3
   },
   "file_extension": ".py",
   "mimetype": "text/x-python",
   "name": "python",
   "nbconvert_exporter": "python",
   "pygments_lexer": "ipython3",
   "version": "3.6.8"
  }
 },
 "nbformat": 4,
 "nbformat_minor": 2
}
