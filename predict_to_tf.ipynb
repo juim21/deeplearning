{
 "cells": [
  {
   "cell_type": "code",
   "execution_count": 1,
   "metadata": {},
   "outputs": [],
   "source": [
    "import pandas as pd\n",
    "import ca_util as ca\n",
    "import datetime as dt\n",
    "import sys\n",
    "import csv\n",
    "import pickle\n",
    "import tensorflow as tf\n",
    "import inspect_checkpoint\n",
    "from sklearn import preprocessing\n",
    "\n",
    "\n",
    "config = tf.ConfigProto()\n",
    "config.gpu_options.allow_growth=True\n",
    "session=tf.Session(config=config)\n"
   ]
  },
  {
   "cell_type": "code",
   "execution_count": 2,
   "metadata": {},
   "outputs": [],
   "source": [
    "\n",
    "# 데이터 전처리 환경 저장한 파일을 불러 옵니다.\n",
    "with open('./output/preprocess_object.pickle', 'rb') as f:\n",
    "\tpreprocess_object = pickle.load(f)\n",
    "\n",
    "# 훈련데이터 로드 합니다.\n",
    "dataset = pd.read_csv('./output/test_dataset.csv', delimiter=',' ,encoding='utf-8', low_memory=False)\n",
    "\n"
   ]
  },
  {
   "cell_type": "code",
   "execution_count": 3,
   "metadata": {},
   "outputs": [],
   "source": [
    "\n",
    "# 연속형 항목 전처리(표준화) 정보 불러와 적용합니다. \n",
    "number_df = dataset.select_dtypes(include=['int64', 'float64'])\n",
    "scaler = preprocess_object.pop('scaler',None)\n",
    "\n",
    "# 표준화 적용 & DataFrade/Column 명 적용합니다.\n",
    "scaler_arr = scaler.transform(number_df)\n",
    "org_data = pd.DataFrame(scaler_arr, columns=number_df.columns)\n",
    "\n",
    "# 이산형 데이터 OneHot Encoder 처리 합니다.\n",
    "categorical = list(dataset.select_dtypes(include=['object']).columns)\n",
    "oh_encoder = {}\n",
    "\n",
    "for cat in categorical:\n",
    "\t# OneHot 정보 불러옵니다.\n",
    "\toh_encoder = preprocess_object[cat]\n",
    "\t# LabelEncoder & OneHot Encoder 불러 옵니다.\n",
    "\tle = oh_encoder['LabelEncoder']\n",
    "\tohe = oh_encoder['OneHotEncoder']\n",
    "\t# 범주형 LabelEncoder 처리 합니다.\n",
    "\tcat_le_arr = le.transform(dataset[cat])\n",
    "\tcat_ohe_arr = ohe.transform(cat_le_arr.reshape(-1,1)).toarray()\n",
    "\toh_df = pd.DataFrame(cat_ohe_arr, columns=[cat+'_'+le.inverse_transform([int(i)])[0] for i in range(cat_ohe_arr.shape[1])])\n",
    "\t# OneHot 결과 데이터 추가 합니다.\n",
    "\torg_data = pd.concat([org_data, oh_df], axis=1)\n",
    "\n",
    "# 반응결과(종속변수) 새로운 데이터셋 분리 합니다.\n",
    "test_label = pd.DataFrame()\n",
    "test_label['resp_N'] = org_data['resp_N']\n",
    "test_label['resp_Y'] = org_data['resp_Y']\n",
    "\n",
    "# 데이터셋(독립변수) 반응결과 삭제 합니다.\n",
    "del org_data['resp_N']\n",
    "del org_data['resp_Y']\n"
   ]
  },
  {
   "cell_type": "code",
   "execution_count": 4,
   "metadata": {},
   "outputs": [],
   "source": [
    "\n",
    "# index 재정렬 후 삭제 합니다.(drop 하지 않아 현재는 필요 없습니다.)\n",
    "# org_data = org_data.reset_index()\n",
    "# del org_data['index']\n",
    "\n",
    "# DNN 모델 설정 합니다.\n",
    "X = tf.placeholder(tf.float32, [None, org_data.shape[1]])\n",
    "Y = tf.placeholder(tf.float32, [None, test_label.shape[1]])\n",
    "keep_prob = tf.placeholder(tf.float32)\n",
    "\n",
    "W1 = tf.Variable(tf.random_normal([org_data.shape[1], 256], stddev=0.01))\n",
    "L1 = tf.nn.sigmoid(tf.matmul(X, W1))\n",
    "\n",
    "# 텐서플로우에 내장된 함수를 이용하여 dropout 을 적용합니다.\n",
    "L1 = tf.nn.dropout(L1, keep_prob)\n",
    "\n",
    "W2 = tf.Variable(tf.random_normal([256, 256], stddev=0.01))\n",
    "L2 = tf.nn.sigmoid(tf.matmul(L1, W2))\n",
    "L2 = tf.nn.dropout(L2, keep_prob)\n",
    "\n",
    "W3 = tf.Variable(tf.random_normal([256, test_label.shape[1]], stddev=0.01))\n",
    "model = tf.nn.softmax(tf.matmul(L2, W3))\n",
    "\n",
    "cost = tf.reduce_mean(tf.nn.softmax_cross_entropy_with_logits_v2(logits=model, labels=Y))\n",
    "optimizer = tf.train.AdamOptimizer(0.001).minimize(cost)\n",
    "\n",
    "# 학습한 모델을 불러 옵니다.\n",
    "init = tf.global_variables_initializer()\n",
    "\n",
    "save_file = './output/train_model.ckpt'\n"
   ]
  },
  {
   "cell_type": "code",
   "execution_count": 5,
   "metadata": {},
   "outputs": [
    {
     "name": "stdout",
     "output_type": "stream",
     "text": [
      "모델 불러 옵니다.\n",
      "INFO:tensorflow:Restoring parameters from ./output/train_model.ckpt\n",
      "정확도 : 0.7236432\n"
     ]
    }
   ],
   "source": [
    "\n",
    "\n",
    "with tf.Session(config=config) as sess:\n",
    "    saver = tf.train.Saver(tf.global_variables())\n",
    "    print('모델 불러 옵니다.')\n",
    "    saver.restore(sess, save_file)\n",
    "    pred = tf.argmax(model, 1)\n",
    "    \n",
    "    is_correct = tf.equal(pred, tf.argmax(Y, 1))\n",
    "    accuracy = tf.reduce_mean(tf.cast(is_correct, tf.float32))\n",
    "    prediction = sess.run(pred, feed_dict={X: org_data, Y: test_label, keep_prob: 1})\n",
    "    print('정확도 :', sess.run(accuracy, feed_dict={X: org_data, Y: test_label, keep_prob: 1}))\n",
    "\n",
    "# 학습  종료 합니다."
   ]
  },
  {
   "cell_type": "code",
   "execution_count": null,
   "metadata": {},
   "outputs": [],
   "source": []
  }
 ],
 "metadata": {
  "kernelspec": {
   "display_name": "Python 3",
   "language": "python",
   "name": "python3"
  },
  "language_info": {
   "codemirror_mode": {
    "name": "ipython",
    "version": 3
   },
   "file_extension": ".py",
   "mimetype": "text/x-python",
   "name": "python",
   "nbconvert_exporter": "python",
   "pygments_lexer": "ipython3",
   "version": "3.6.8"
  }
 },
 "nbformat": 4,
 "nbformat_minor": 2
}
